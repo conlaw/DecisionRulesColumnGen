{
 "cells": [
  {
   "cell_type": "code",
   "execution_count": 1,
   "metadata": {},
   "outputs": [],
   "source": [
    "import numpy as np\n",
    "import pandas as pd\n",
    "from binerizer import *\n",
    "from DNFRuleModel import DNFRuleModel\n",
    "from MasterModel import MasterModel\n",
    "from RuleGenerator import RuleGenerator\n",
    "from Classifier import Classifier\n",
    "from sklearn.model_selection import train_test_split"
   ]
  },
  {
   "cell_type": "code",
   "execution_count": 2,
   "metadata": {},
   "outputs": [],
   "source": [
    "## Load + Binerize Data\n",
    "fico = pd.read_csv('data/fico_clean.csv')\n",
    "fico_bin = binerizeData(fico, verbose = False)\n",
    "\n",
    "fico_X =fico_bin.to_numpy()[:,0:(fico_bin.shape[1]-1)]\n",
    "fico_Y = fico_bin.to_numpy()[:,fico_bin.shape[1]-1]"
   ]
  },
  {
   "cell_type": "code",
   "execution_count": 3,
   "metadata": {},
   "outputs": [
    {
     "name": "stdout",
     "output_type": "stream",
     "text": [
      "hey your config said to return this many rules:  10\n",
      "Using license file /Users/connorlawless/gurobi.lic\n",
      "Academic license - for non-commercial use only\n",
      "0.7074569789674953\n",
      "hey your config said to return this many rules:  10\n",
      "0.6955066921606119\n",
      "hey your config said to return this many rules:  10\n",
      "Time limit for column generation exceeded. Solving MIP.\n",
      "0.7141491395793499\n",
      "hey your config said to return this many rules:  10\n",
      "Time limit for column generation exceeded. Solving MIP.\n",
      "0.7007648183556405\n",
      "hey your config said to return this many rules:  10\n",
      "Time limit for column generation exceeded. Solving MIP.\n",
      "0.6964627151051626\n",
      "hey your config said to return this many rules:  20\n",
      "Time limit for column generation exceeded. Solving MIP.\n",
      "0.6959847036328872\n",
      "hey your config said to return this many rules:  20\n",
      "Time limit for column generation exceeded. Solving MIP.\n",
      "0.6993307839388145\n",
      "hey your config said to return this many rules:  20\n",
      "Time limit for column generation exceeded. Solving MIP.\n",
      "0.7222753346080306\n",
      "hey your config said to return this many rules:  20\n",
      "Time limit for column generation exceeded. Solving MIP.\n",
      "0.7074569789674953\n",
      "hey your config said to return this many rules:  20\n",
      "Time limit for column generation exceeded. Solving MIP.\n",
      "0.7079349904397706\n",
      "hey your config said to return this many rules:  50\n",
      "Time limit for column generation exceeded. Solving MIP.\n",
      "0.7021988527724665\n",
      "hey your config said to return this many rules:  50\n",
      "Time limit for column generation exceeded. Solving MIP.\n",
      "0.6993307839388145\n",
      "hey your config said to return this many rules:  50\n",
      "Time limit for column generation exceeded. Solving MIP.\n",
      "0.7155831739961759\n",
      "hey your config said to return this many rules:  50\n",
      "Time limit for column generation exceeded. Solving MIP.\n",
      "0.7127151051625239\n",
      "hey your config said to return this many rules:  50\n",
      "Time limit for column generation exceeded. Solving MIP.\n",
      "0.7151051625239006\n",
      "hey your config said to return this many rules:  100\n",
      "Time limit for column generation exceeded. Solving MIP.\n",
      "0.6978967495219885\n",
      "hey your config said to return this many rules:  100\n",
      "Time limit for column generation exceeded. Solving MIP.\n",
      "0.7060229445506692\n",
      "hey your config said to return this many rules:  100\n",
      "Time limit for column generation exceeded. Solving MIP.\n",
      "0.7141491395793499\n",
      "hey your config said to return this many rules:  100\n",
      "Time limit for column generation exceeded. Solving MIP.\n",
      "0.7251434034416826\n",
      "hey your config said to return this many rules:  100\n",
      "Time limit for column generation exceeded. Solving MIP.\n",
      "0.7136711281070746\n",
      "hey your config said to return this many rules:  200\n",
      "Time limit for column generation exceeded. Solving MIP.\n",
      "0.7127151051625239\n",
      "hey your config said to return this many rules:  200\n",
      "Time limit for column generation exceeded. Solving MIP.\n",
      "0.7084130019120459\n",
      "hey your config said to return this many rules:  200\n",
      "Time limit for column generation exceeded. Solving MIP.\n",
      "0.7184512428298279\n",
      "hey your config said to return this many rules:  200\n",
      "Time limit for column generation exceeded. Solving MIP.\n",
      "0.7103250478011472\n",
      "hey your config said to return this many rules:  200\n",
      "Time limit for column generation exceeded. Solving MIP.\n",
      "0.722753346080306\n",
      "hey your config said to return this many rules:  999999999\n",
      "Time limit for column generation exceeded. Solving MIP.\n",
      "0.72131931166348\n",
      "hey your config said to return this many rules:  999999999\n",
      "Time limit for column generation exceeded. Solving MIP.\n",
      "0.7127151051625239\n",
      "hey your config said to return this many rules:  999999999\n",
      "Time limit for column generation exceeded. Solving MIP.\n",
      "0.7117590822179732\n",
      "hey your config said to return this many rules:  999999999\n",
      "Time limit for column generation exceeded. Solving MIP.\n",
      "0.7179732313575525\n",
      "hey your config said to return this many rules:  999999999\n",
      "Time limit for column generation exceeded. Solving MIP.\n",
      "0.7165391969407265\n"
     ]
    }
   ],
   "source": [
    "# Num to return test\n",
    "price_limit = 45\n",
    "train_limit = 300\n",
    "c = 15\n",
    "return_nums = [10, 20, 50, 100, 200, 999999999]\n",
    "\n",
    "accuracies = []\n",
    "accuracies_full = []\n",
    "saved_rules = None\n",
    "\n",
    "for r in return_nums:\n",
    "    accuracy = []\n",
    "    args = {'ruleComplexity': c, 'numRulesToReturn': r}\n",
    "    for i in range(5):\n",
    "        X_train, X_test, y_train, y_test = train_test_split(fico_X, fico_Y, test_size=0.2)\n",
    "        adult_classif = Classifier(X_train, y_train, args, ruleGenerator = 'Generic')\n",
    "        adult_classif.fit(initial_rules = saved_rules, \n",
    "                          verbose = False, \n",
    "                          timeLimit = train_limit, \n",
    "                          timeLimitPricing = price_limit)\n",
    "        \n",
    "        acc = sum(adult_classif.predict(X_test) == y_test)/len(y_test)\n",
    "        accuracy.append(acc)\n",
    "        print(acc)\n",
    "        \n",
    "        rules = adult_classif.ruleMod.rules\n",
    "        if saved_rules is None:\n",
    "            saved_rules = rules\n",
    "        else:\n",
    "            saved_rules = np.unique(np.concatenate([saved_rules,rules]), axis = 0)\n",
    "    accuracies.append(np.mean(accuracy))\n",
    "    accuracies_full.append(accuracy)"
   ]
  },
  {
   "cell_type": "code",
   "execution_count": 21,
   "metadata": {},
   "outputs": [
    {
     "data": {
      "text/plain": [
       "30184"
      ]
     },
     "execution_count": 21,
     "metadata": {},
     "output_type": "execute_result"
    }
   ],
   "source": [
    "len(adult_classif.ruleMod.rules)"
   ]
  },
  {
   "cell_type": "code",
   "execution_count": 17,
   "metadata": {},
   "outputs": [
    {
     "data": {
      "text/plain": [
       "[0, 1, 2]"
      ]
     },
     "execution_count": 17,
     "metadata": {},
     "output_type": "execute_result"
    }
   ],
   "source": [
    "res = pd.DataFrame(accuracies)\n",
    "res['numReturn'] = return_nums\n",
    "\n",
    "res.to_csv('results/numReturnHPTuning.csv')\n",
    "best_num = return_nums[np.argmax(accuracies)]"
   ]
  },
  {
   "cell_type": "code",
   "execution_count": null,
   "metadata": {},
   "outputs": [],
   "source": [
    "!git add results/numReturnHPTuning.csv\n",
    "!git commit -m 'pushing number to return hp tuning result'\n",
    "!git push"
   ]
  },
  {
   "cell_type": "code",
   "execution_count": null,
   "metadata": {},
   "outputs": [],
   "source": [
    "# Num to return test\n",
    "price_limit = 45\n",
    "train_limit = 300\n",
    "complexities = [1, 5, 10, 15, 20, 30]\n",
    "\n",
    "accuracies = []\n",
    "accuracies_full = []\n",
    "\n",
    "for c in complexities:\n",
    "    accuracy = []\n",
    "    args = {'ruleComplexity': c, 'numRulesToReturn': best_num}\n",
    "    for i in range(10):\n",
    "        X_train, X_test, y_train, y_test = train_test_split(fico_X, fico_Y, test_size=0.2)\n",
    "        adult_classif = Classifier(X_train, y_train, args, ruleGenerator = 'Generic')\n",
    "        adult_classif.fit(verbose = False, timeLimit = train_limit, timeLimitPricing = price_limit)\n",
    "        acc = sum(adult_classif.predict(X_test) == y_test)/len(y_test)\n",
    "        accuracy.append(acc)\n",
    "        print(acc)\n",
    "    accuracies.append(np.mean(accuracy))\n",
    "    accuracies_full.append(accuracy)"
   ]
  },
  {
   "cell_type": "code",
   "execution_count": null,
   "metadata": {},
   "outputs": [],
   "source": [
    "res = pd.DataFrame(accuracies)\n",
    "res['complex'] = complexities\n",
    "\n",
    "res.to_csv('results/complexHPTuning.csv')"
   ]
  },
  {
   "cell_type": "code",
   "execution_count": 10,
   "metadata": {},
   "outputs": [
    {
     "name": "stdout",
     "output_type": "stream",
     "text": [
      "[master 7499144] testing auto results push\n",
      " 1 file changed, 32562 insertions(+)\n",
      " create mode 100644 test.csv\n",
      "Warning: Permanently added the RSA host key for IP address '140.82.112.4' to the list of known hosts.\n",
      "Counting objects: 3, done.\n",
      "Delta compression using up to 8 threads.\n",
      "Compressing objects: 100% (3/3), done.\n",
      "Writing objects: 100% (3/3), 486.86 KiB | 6.32 MiB/s, done.\n",
      "Total 3 (delta 1), reused 0 (delta 0)\n",
      "remote: Resolving deltas: 100% (1/1), completed with 1 local object.\u001b[K\n",
      "To github.com:conlaw/DecisionRulesColumnGen.git\n",
      "   5b26763..7499144  master -> master\n"
     ]
    }
   ],
   "source": [
    "!git add results/complexHPTuning.csv\n",
    "!git commit -m 'pushing complexity hp tuning results'\n",
    "!git push"
   ]
  }
 ],
 "metadata": {
  "kernelspec": {
   "display_name": "Python 3",
   "language": "python",
   "name": "python3"
  },
  "language_info": {
   "codemirror_mode": {
    "name": "ipython",
    "version": 3
   },
   "file_extension": ".py",
   "mimetype": "text/x-python",
   "name": "python",
   "nbconvert_exporter": "python",
   "pygments_lexer": "ipython3",
   "version": "3.7.6"
  }
 },
 "nbformat": 4,
 "nbformat_minor": 4
}
