{
 "cells": [
  {
   "cell_type": "code",
   "execution_count": 3,
   "metadata": {},
   "outputs": [],
   "source": [
    "import pandas as pd\n",
    "import numpy as np\n",
    "import gurobipy as gp\n",
    "from gurobipy import GRB\n",
    "from binerizer import *\n",
    "from DNFRuleModel import DNFRuleModel\n",
    "from MasterModel import MasterModel"
   ]
  },
  {
   "cell_type": "code",
   "execution_count": 4,
   "metadata": {},
   "outputs": [],
   "source": [
    "credit = pd.read_csv('data/credit.csv')\n",
    "data = binerizeData(credit, verbose = False)\n",
    "X = data.to_numpy()[:,0:164]\n",
    "Y = data.to_numpy()[:,165]\n",
    "\n",
    "X[Y,0] = 1\n",
    "X[~Y,0] = 0\n",
    "\n",
    "ruleMod = DNFRuleModel(X, Y)\n"
   ]
  },
  {
   "cell_type": "code",
   "execution_count": 17,
   "metadata": {},
   "outputs": [
    {
     "data": {
      "text/plain": [
       "array([1., 1., 1., 1., 1., 1., 1., 1., 1., 1., 1., 1., 1., 1., 1., 1., 1.,\n",
       "       1., 1., 1., 1., 1., 1., 1., 1., 1., 1., 1., 1., 1., 1., 1., 1., 1.,\n",
       "       1., 1., 1., 1., 1., 1., 1., 1., 1., 1., 1., 1., 1., 1., 1., 1., 1.,\n",
       "       1., 1., 1., 1., 1., 1., 1., 1., 1., 1., 1., 1., 1., 1., 1., 1., 1.,\n",
       "       1., 1., 1., 1., 1., 1., 1., 1., 1., 1., 1., 1., 1., 1., 1., 1., 1.,\n",
       "       1., 1., 1., 1., 1., 1., 1., 1., 1., 1., 1., 1., 1., 1., 1., 1., 1.,\n",
       "       1., 1., 1., 1., 1., 1., 1., 1., 1., 1., 1., 1., 1., 1., 1., 1., 1.,\n",
       "       1., 1., 1., 1., 1., 1., 1., 1., 1., 1., 1., 1., 1., 1., 1., 1., 1.,\n",
       "       1., 1., 1., 1., 1., 1., 1., 1., 1., 1., 1., 1., 1., 1., 1., 1., 1.,\n",
       "       1., 1., 1., 1., 1., 1., 1., 1., 1., 1., 1.])"
      ]
     },
     "execution_count": 17,
     "metadata": {},
     "output_type": "execute_result"
    }
   ],
   "source": [
    "np.ones(numFeatures)"
   ]
  },
  {
   "cell_type": "code",
   "execution_count": 41,
   "metadata": {},
   "outputs": [],
   "source": [
    "numSamples, numFeatures = X.shape\n",
    "model = gp.Model('pricing')\n",
    "D = 10\n",
    "\n",
    "z = []\n",
    "for k in range(numFeatures):\n",
    "    z.append(model.addVar(vtype=GRB.BINARY, name=\"z[%d]\"%k))\n",
    "\n",
    "delta = []\n",
    "for i in range(numSamples):\n",
    "    delta.append(model.addVar(vtype=GRB.BINARY, name= \"delta[%d]\"%i))\n",
    "\n",
    "complexConst = model.addConstr(gp.LinExpr(np.ones(numFeatures), z) <= D, name=\"ComplexityConst\")\n",
    "\n",
    "for i in range(numSamples):\n",
    "    if not Y[i]:\n",
    "         model.addConstr(gp.LinExpr(~X[i,:]*1, z) + delta[i] >= 1, name=\"sampleConstraint[%d]\"%i)\n",
    "    else:\n",
    "        for j in range(numFeatures):\n",
    "            if not X[i,j]:\n",
    "                model.addConstr(delta[i]+z[j] <= 1,name=\"sampleConstraint[%d]-%d\"%(i,j))\n",
    "                \n",
    "model.write('pricing_test.lp')\n"
   ]
  },
  {
   "cell_type": "code",
   "execution_count": 58,
   "metadata": {},
   "outputs": [
    {
     "data": {
      "text/plain": [
       "<gurobi.LinExpr: delta[70] + delta[71] + delta[72] + delta[73] + delta[74] + delta[75] + delta[76] + delta[77] + delta[78] + delta[79] + delta[80] + delta[81] + delta[82] + delta[83] + delta[84] + delta[85] + delta[86] + delta[87] + delta[88] + delta[89] + delta[90] + delta[91] + delta[92] + delta[93] + delta[94] + delta[95] + delta[96] + delta[97] + delta[98] + delta[99] + delta[100] + delta[101] + delta[102] + delta[103] + delta[104] + delta[105] + delta[106] + delta[107] + delta[108] + delta[109] + delta[110] + delta[111] + delta[245] + delta[246] + delta[247] + delta[248] + delta[249] + delta[250] + delta[251] + delta[252] + delta[253] + delta[254] + delta[255] + delta[256] + delta[257] + delta[260] + delta[261] + delta[262] + delta[263] + delta[264] + delta[265] + delta[266] + delta[267] + delta[268] + delta[269] + delta[270] + delta[271] + delta[272] + delta[273] + delta[274] + delta[275] + delta[276] + delta[277] + delta[278] + delta[279] + delta[280] + delta[281] + delta[282] + delta[283] + delta[284] + delta[285] + delta[286] + delta[287] + delta[288] + delta[289] + delta[290] + delta[291] + delta[292] + delta[293] + delta[294] + delta[295] + delta[296] + delta[297] + delta[298] + delta[299] + delta[300] + delta[301] + delta[302] + delta[303] + delta[311] + delta[312] + delta[313] + delta[314] + delta[315] + delta[316] + delta[317] + delta[318] + delta[319] + delta[320] + delta[321] + delta[322] + delta[323] + delta[324] + delta[325] + delta[326] + delta[327] + delta[328] + delta[329] + delta[330] + delta[331] + delta[332] + delta[333] + delta[334] + delta[335] + delta[336] + delta[337] + delta[338] + delta[339] + delta[340] + delta[341] + delta[342] + delta[343] + delta[344] + delta[345] + delta[346] + delta[347] + delta[348] + delta[349] + delta[350] + delta[351] + delta[352] + delta[353] + delta[354] + delta[355] + delta[356] + delta[357] + delta[358] + delta[359] + delta[360] + delta[361] + delta[362] + delta[363] + delta[364] + delta[365] + delta[366] + delta[367] + delta[368] + delta[369] + delta[370] + delta[371] + delta[372] + delta[373] + delta[374] + delta[375] + delta[376] + delta[377] + delta[378] + delta[379] + delta[380] + delta[381] + delta[382] + delta[383] + delta[384] + delta[385] + delta[386] + delta[387] + delta[388] + delta[389] + delta[390] + delta[391] + delta[392] + delta[393] + delta[394] + delta[395] + delta[396] + delta[397] + delta[398] + delta[399] + delta[400] + delta[401] + delta[402] + delta[403] + delta[404] + delta[405] + delta[406] + delta[407] + delta[408] + delta[409] + delta[410] + delta[411] + delta[412] + delta[413] + delta[414] + delta[415] + delta[416] + delta[417] + delta[418] + delta[419] + delta[420] + delta[421] + delta[422] + delta[423] + delta[424] + delta[425] + delta[426] + delta[427] + delta[428] + delta[429] + delta[430] + delta[431] + delta[432] + delta[433] + delta[434] + delta[435] + delta[436] + delta[437] + delta[438] + delta[439] + delta[440] + delta[441] + delta[442] + delta[443] + delta[444] + delta[445] + delta[446] + delta[447] + delta[448] + delta[449] + delta[450] + delta[451] + delta[452] + delta[453] + delta[454] + delta[455] + delta[456] + delta[457] + delta[458] + delta[459] + delta[460] + delta[461] + delta[462] + delta[463] + delta[464] + delta[495] + delta[496] + delta[497] + delta[498] + delta[499] + delta[500] + delta[501] + delta[502] + delta[503] + delta[504] + delta[505] + delta[506] + delta[507] + delta[508] + delta[509] + delta[510] + delta[511] + delta[512] + delta[513] + delta[514] + delta[515] + delta[516] + delta[517] + delta[570] + delta[571] + delta[572] + delta[573] + delta[575] + delta[576] + delta[577] + delta[578] + delta[579] + delta[580] + delta[581] + delta[582] + delta[583] + delta[584] + delta[585] + delta[586] + delta[587] + delta[589] + delta[590] + delta[591] + delta[592] + delta[593] + delta[594] + delta[595] + delta[596] + delta[597] + delta[598] + delta[599] + delta[600] + delta[601] + delta[602] + delta[603] + delta[604] + delta[605] + delta[606] + delta[607] + delta[608] + delta[609] + delta[610] + delta[611] + delta[612] + delta[613] + delta[614] + delta[615] + delta[616] + delta[617] + delta[618] + delta[619] + delta[620] + delta[621] + delta[622] + delta[623] + delta[624] + delta[625] + delta[626] + delta[627] + delta[628] + delta[629] + delta[630] + delta[631] + delta[632] + delta[633] + delta[634] + delta[635] + delta[636] + delta[637] + delta[638] + delta[639] + delta[640] + delta[641] + delta[642] + delta[643] + delta[644] + delta[645] + delta[646] + delta[647] + delta[648] + delta[649] + delta[650] + delta[651] + delta[652] + delta[0] + delta[1] + delta[2] + delta[3] + delta[4] + delta[5] + delta[6] + delta[7] + delta[8] + delta[9] + delta[10] + delta[11] + delta[12] + delta[13] + delta[14] + delta[15] + delta[16] + delta[17] + delta[18] + delta[19] + delta[20] + delta[21] + delta[22] + delta[23] + delta[24] + delta[25] + delta[26] + delta[27] + delta[28] + delta[29] + delta[30] + delta[31] + delta[32] + delta[33] + delta[34] + delta[35] + delta[36] + delta[37] + delta[38] + delta[39] + delta[40] + delta[41] + delta[42] + delta[43] + delta[44] + delta[45] + delta[46] + delta[47] + delta[48] + delta[49] + delta[50] + delta[51] + delta[52] + delta[53] + delta[54] + delta[55] + delta[56] + delta[57] + delta[58] + delta[59] + delta[60] + delta[61] + delta[62] + delta[63] + delta[64] + delta[65] + delta[66] + delta[67] + delta[68] + delta[69] + delta[112] + delta[113] + delta[114] + delta[115] + delta[116] + delta[117] + delta[118] + delta[119] + delta[120] + delta[121] + delta[122] + delta[123] + delta[124] + delta[125] + delta[126] + delta[127] + delta[128] + delta[129] + delta[130] + delta[131] + delta[132] + delta[133] + delta[134] + delta[135] + delta[136] + delta[137] + delta[138] + delta[139] + delta[140] + delta[141] + delta[142] + delta[143] + delta[144] + delta[145] + delta[146] + delta[147] + delta[148] + delta[149] + delta[150] + delta[151] + delta[152] + delta[153] + delta[154] + delta[155] + delta[156] + delta[157] + delta[158] + delta[159] + delta[160] + delta[161] + delta[162] + delta[163] + delta[164] + delta[165] + delta[166] + delta[167] + delta[168] + delta[169] + delta[170] + delta[171] + delta[172] + delta[173] + delta[174] + delta[175] + delta[176] + delta[177] + delta[178] + delta[179] + delta[180] + delta[181] + delta[182] + delta[183] + delta[184] + delta[185] + delta[186] + delta[187] + delta[188] + delta[189] + delta[190] + delta[191] + delta[192] + delta[193] + delta[194] + delta[195] + delta[196] + delta[197] + delta[198] + delta[199] + delta[200] + delta[201] + delta[202] + delta[203] + delta[204] + delta[205] + delta[206] + delta[207] + delta[208] + delta[209] + delta[210] + delta[211] + delta[212] + delta[213] + delta[214] + delta[215] + delta[216] + delta[217] + delta[218] + delta[219] + delta[220] + delta[221] + delta[222] + delta[223] + delta[224] + delta[225] + delta[226] + delta[227] + delta[228] + delta[229] + delta[230] + delta[231] + delta[232] + delta[233] + delta[234] + delta[235] + delta[236] + delta[237] + delta[238] + delta[239] + delta[240] + delta[241] + delta[242] + delta[243] + delta[244] + delta[258] + delta[259] + delta[304] + delta[305] + delta[306] + delta[307] + delta[308] + delta[309] + delta[310] + delta[465] + delta[466] + delta[467] + delta[468] + delta[469] + delta[470] + delta[471] + delta[472] + delta[473] + delta[474] + delta[475] + delta[476] + delta[477] + delta[478] + delta[479] + delta[480] + delta[481] + delta[482] + delta[483] + delta[484] + delta[485] + delta[486] + delta[487] + delta[488] + delta[489] + delta[490] + delta[491] + delta[492] + delta[493] + delta[494] + delta[518] + delta[519] + delta[520] + delta[521] + delta[522] + delta[523] + delta[524] + delta[525] + delta[526] + delta[527] + delta[528] + delta[529] + delta[530] + delta[531] + delta[532] + delta[533] + delta[534] + delta[535] + delta[536] + delta[537] + delta[538] + delta[539] + delta[540] + delta[541] + delta[542] + delta[543] + delta[544] + delta[545] + delta[546] + delta[547] + delta[548] + delta[549] + delta[550] + delta[551] + delta[552] + delta[553] + delta[554] + delta[555] + delta[556] + delta[557] + delta[558] + delta[559] + delta[560] + delta[561] + delta[562] + delta[563] + delta[564] + delta[565] + delta[566] + delta[567] + delta[568] + delta[569] + delta[574] + delta[588] + 1.5 z[0] + 1.5 z[1] + 1.5 z[2] + 1.5 z[3] + 1.5 z[4] + 1.5 z[5] + 1.5 z[6] + 1.5 z[7] + 1.5 z[8] + 1.5 z[9] + 1.5 z[10] + 1.5 z[11] + 1.5 z[12] + 1.5 z[13] + 1.5 z[14] + 1.5 z[15] + 1.5 z[16] + 1.5 z[17] + 1.5 z[18] + 1.5 z[19] + 1.5 z[20] + 1.5 z[21] + 1.5 z[22] + 1.5 z[23] + 1.5 z[24] + 1.5 z[25] + 1.5 z[26] + 1.5 z[27] + 1.5 z[28] + 1.5 z[29] + 1.5 z[30] + 1.5 z[31] + 1.5 z[32] + 1.5 z[33] + 1.5 z[34] + 1.5 z[35] + 1.5 z[36] + 1.5 z[37] + 1.5 z[38] + 1.5 z[39] + 1.5 z[40] + 1.5 z[41] + 1.5 z[42] + 1.5 z[43] + 1.5 z[44] + 1.5 z[45] + 1.5 z[46] + 1.5 z[47] + 1.5 z[48] + 1.5 z[49] + 1.5 z[50] + 1.5 z[51] + 1.5 z[52] + 1.5 z[53] + 1.5 z[54] + 1.5 z[55] + 1.5 z[56] + 1.5 z[57] + 1.5 z[58] + 1.5 z[59] + 1.5 z[60] + 1.5 z[61] + 1.5 z[62] + 1.5 z[63] + 1.5 z[64] + 1.5 z[65] + 1.5 z[66] + 1.5 z[67] + 1.5 z[68] + 1.5 z[69] + 1.5 z[70] + 1.5 z[71] + 1.5 z[72] + 1.5 z[73] + 1.5 z[74] + 1.5 z[75] + 1.5 z[76] + 1.5 z[77] + 1.5 z[78] + 1.5 z[79] + 1.5 z[80] + 1.5 z[81] + 1.5 z[82] + 1.5 z[83] + 1.5 z[84] + 1.5 z[85] + 1.5 z[86] + 1.5 z[87] + 1.5 z[88] + 1.5 z[89] + 1.5 z[90] + 1.5 z[91] + 1.5 z[92] + 1.5 z[93] + 1.5 z[94] + 1.5 z[95] + 1.5 z[96] + 1.5 z[97] + 1.5 z[98] + 1.5 z[99] + 1.5 z[100] + 1.5 z[101] + 1.5 z[102] + 1.5 z[103] + 1.5 z[104] + 1.5 z[105] + 1.5 z[106] + 1.5 z[107] + 1.5 z[108] + 1.5 z[109] + 1.5 z[110] + 1.5 z[111] + 1.5 z[112] + 1.5 z[113] + 1.5 z[114] + 1.5 z[115] + 1.5 z[116] + 1.5 z[117] + 1.5 z[118] + 1.5 z[119] + 1.5 z[120] + 1.5 z[121] + 1.5 z[122] + 1.5 z[123] + 1.5 z[124] + 1.5 z[125] + 1.5 z[126] + 1.5 z[127] + 1.5 z[128] + 1.5 z[129] + 1.5 z[130] + 1.5 z[131] + 1.5 z[132] + 1.5 z[133] + 1.5 z[134] + 1.5 z[135] + 1.5 z[136] + 1.5 z[137] + 1.5 z[138] + 1.5 z[139] + 1.5 z[140] + 1.5 z[141] + 1.5 z[142] + 1.5 z[143] + 1.5 z[144] + 1.5 z[145] + 1.5 z[146] + 1.5 z[147] + 1.5 z[148] + 1.5 z[149] + 1.5 z[150] + 1.5 z[151] + 1.5 z[152] + 1.5 z[153] + 1.5 z[154] + 1.5 z[155] + 1.5 z[156] + 1.5 z[157] + 1.5 z[158] + 1.5 z[159] + 1.5 z[160] + 1.5 z[161] + 1.5 z[162] + 1.5 z[163]>"
      ]
     },
     "execution_count": 58,
     "metadata": {},
     "output_type": "execute_result"
    }
   ],
   "source": [
    "dz = gp.LinExpr(np.ones(sum(~Y)), np.array(delta)[~Y])\n",
    "dp = gp.LinExpr(np.ones(sum(Y)), np.array(delta)[Y])\n",
    "lam = gp.LinExpr(1.5*np.ones(len(z)), z)\n",
    "\n",
    "dz.add(dp)\n",
    "dz.add(lam)\n",
    "dz"
   ]
  }
 ],
 "metadata": {
  "kernelspec": {
   "display_name": "Python 3",
   "language": "python",
   "name": "python3"
  },
  "language_info": {
   "codemirror_mode": {
    "name": "ipython",
    "version": 3
   },
   "file_extension": ".py",
   "mimetype": "text/x-python",
   "name": "python",
   "nbconvert_exporter": "python",
   "pygments_lexer": "ipython3",
   "version": "3.7.6"
  }
 },
 "nbformat": 4,
 "nbformat_minor": 4
}
