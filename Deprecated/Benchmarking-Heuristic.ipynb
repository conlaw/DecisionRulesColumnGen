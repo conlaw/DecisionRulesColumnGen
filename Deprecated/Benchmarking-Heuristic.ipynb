{
 "cells": [
  {
   "cell_type": "code",
   "execution_count": 5,
   "metadata": {},
   "outputs": [],
   "source": [
    "import numpy as np\n",
    "import pandas as pd\n",
    "from binerizer import *\n",
    "from DNFRuleModel import DNFRuleModel\n",
    "from MasterModel import MasterModel\n",
    "from RuleGenerator import RuleGenerator\n",
    "from Classifier import Classifier\n",
    "from sklearn.model_selection import train_test_split\n",
    "import random"
   ]
  },
  {
   "cell_type": "code",
   "execution_count": 3,
   "metadata": {},
   "outputs": [],
   "source": [
    "adult = pd.read_csv('data/adult.csv')\n",
    "adult_bin = binerizeData(adult, verbose = False)\n",
    "\n",
    "adult_X =adult_bin.to_numpy()[:,0:(adult_bin.shape[1]-1)]\n",
    "adult_Y = adult_bin.to_numpy()[:,adult_bin.shape[1]-1]\n",
    "\n",
    "complex_grid = [1, 5, 10, 15, 20, 25, 40, 60, 80, 100, 120]\n",
    "price_limit = 45\n",
    "train_limit = 300\n",
    "\n",
    "accuracies = []\n",
    "accuracies_full = []\n",
    "\n",
    "for c in [90]:\n",
    "    break\n",
    "    accuracy = []\n",
    "    args = {'ruleComplexity': c}\n",
    "    for i in range(10):\n",
    "        X_train, X_test, y_train, y_test = train_test_split(adult_X, adult_Y, test_size=0.2)\n",
    "        adult_classif = Classifier(X_train, y_train, args, ruleGenerator = 'Generic')\n",
    "        adult_classif.fit(verbose = False, timeLimit = train_limit, timeLimitPricing = price_limit)\n",
    "        acc = sum(adult_classif.predict(X_test) == y_test)/len(y_test)\n",
    "        accuracy.append(acc)\n",
    "    accuracies.append(np.mean(accuracy))\n",
    "    accuracies_full.append(accuracy)"
   ]
  },
  {
   "cell_type": "code",
   "execution_count": 25,
   "metadata": {},
   "outputs": [
    {
     "data": {
      "text/plain": [
       "array([[1., 0., 0.],\n",
       "       [1., 0., 0.],\n",
       "       [1., 0., 0.]])"
      ]
     },
     "execution_count": 25,
     "metadata": {},
     "output_type": "execute_result"
    }
   ],
   "source": [
    "tmp = np.eye(3)\n",
    "random.shuffle(tmp)\n",
    "tmp"
   ]
  },
  {
   "cell_type": "code",
   "execution_count": 3,
   "metadata": {},
   "outputs": [
    {
     "data": {
      "text/plain": [
       "4298052"
      ]
     },
     "execution_count": 3,
     "metadata": {},
     "output_type": "execute_result"
    }
   ],
   "source": []
  },
  {
   "cell_type": "code",
   "execution_count": 4,
   "metadata": {},
   "outputs": [
    {
     "data": {
      "text/plain": [
       "0.006619386346844688"
      ]
     },
     "execution_count": 4,
     "metadata": {},
     "output_type": "execute_result"
    }
   ],
   "source": [
    "np.std(accuracies_full)"
   ]
  },
  {
   "cell_type": "code",
   "execution_count": 2,
   "metadata": {},
   "outputs": [
    {
     "name": "stdout",
     "output_type": "stream",
     "text": [
      "hey your config said to return this many rules:  20\n",
      "Using license file /Users/connorlawless/gurobi.lic\n",
      "Academic license - for non-commercial use only\n"
     ]
    },
    {
     "name": "stderr",
     "output_type": "stream",
     "text": [
      "/anaconda3/envs/decisionRule/lib/python3.7/site-packages/numpy/core/fromnumeric.py:3335: RuntimeWarning: Mean of empty slice.\n",
      "  out=out, **kwargs)\n",
      "/anaconda3/envs/decisionRule/lib/python3.7/site-packages/numpy/core/_methods.py:161: RuntimeWarning: invalid value encountered in double_scalars\n",
      "  ret = ret.dtype.type(ret / rcount)\n"
     ]
    }
   ],
   "source": [
    "fico = pd.read_csv('data/fico_clean.csv')\n",
    "fico_bin = binerizeData(fico, verbose = False)\n",
    "\n",
    "fico_X =fico_bin.to_numpy()[:,0:(fico_bin.shape[1]-1)]\n",
    "fico_Y = fico_bin.to_numpy()[:,fico_bin.shape[1]-1]\n",
    "\n",
    "price_limit = 45\n",
    "train_limit = 300\n",
    "\n",
    "accuracies = []\n",
    "accuracies_full = []\n",
    "\n",
    "for c in [15]:\n",
    "    accuracy = []\n",
    "    args = {'ruleComplexity': c, 'numRulesToReturn': 20}\n",
    "    for i in range(10):\n",
    "        X_train, X_test, y_train, y_test = train_test_split(fico_X, fico_Y, test_size=0.2)\n",
    "        adult_classif = Classifier(X_train, y_train, args, ruleGenerator = 'Generic')\n",
    "        break\n",
    "        adult_classif.fit(verbose = False, timeLimit = train_limit, timeLimitPricing = price_limit)\n",
    "        acc = sum(adult_classif.predict(X_test) == y_test)/len(y_test)\n",
    "        accuracy.append(acc)\n",
    "        print(acc)\n",
    "    accuracies.append(np.mean(accuracy))\n",
    "    accuracies_full.append(accuracy)"
   ]
  },
  {
   "cell_type": "code",
   "execution_count": 14,
   "metadata": {},
   "outputs": [
    {
     "name": "stdout",
     "output_type": "stream",
     "text": [
      "(10459, 296)\n"
     ]
    },
    {
     "data": {
      "text/plain": [
       "0.06460232103219003"
      ]
     },
     "execution_count": 14,
     "metadata": {},
     "output_type": "execute_result"
    }
   ],
   "source": [
    "print(fico_X.shape)\n",
    "(100000/np.mean(np.sum(fico_X > 0, axis=0)))/fico_X.shape[1]\n"
   ]
  },
  {
   "cell_type": "code",
   "execution_count": null,
   "metadata": {},
   "outputs": [],
   "source": [
    "print(np.mean(accuracies_full), np.std(accuracies_full))"
   ]
  },
  {
   "cell_type": "code",
   "execution_count": null,
   "metadata": {},
   "outputs": [],
   "source": [
    "ilpd = pd.read_csv('data/ilpd.csv')\n",
    "ilpd_bin = binerizeData(ilpd, verbose = False)\n",
    "\n",
    "ilpd_X =ilpd_bin.to_numpy()[:,0:(ilpd_bin.shape[1]-1)]\n",
    "ilpd_Y = ilpd_bin.to_numpy()[:,ilpd_bin.shape[1]-1]\n",
    "\n",
    "complex_grid = [1, 5, 10, 15, 20, 25, 40, 60, 80, 100, 120]\n",
    "price_limit = 45\n",
    "train_limit = 300\n",
    "\n",
    "accuracies = []\n",
    "accuracies_full = []\n",
    "\n",
    "for c in [15]:\n",
    "    accuracy = []\n",
    "    args = {'ruleComplexity': c}\n",
    "    for i in range(10):\n",
    "        X_train, X_test, y_train, y_test = train_test_split(ilpd_X, ilpd_Y, test_size=0.2)\n",
    "        print(y_test)\n",
    "        heart_classif = Classifier(X_train, y_train, args)\n",
    "        heart_classif.fit(verbose = False, timeLimit = train_limit, timeLimitPricing = price_limit)\n",
    "        acc = sum(heart_classif.predict(X_test) == y_test)/len(y_test)\n",
    "        accuracy.append(acc)\n",
    "    accuracies.append(np.mean(accuracy))\n",
    "    accuracies_full.append(accuracy)"
   ]
  },
  {
   "cell_type": "code",
   "execution_count": null,
   "metadata": {},
   "outputs": [],
   "source": [
    "print(np.mean(accuracies_full), np.std(accuracies_full))"
   ]
  },
  {
   "cell_type": "code",
   "execution_count": null,
   "metadata": {},
   "outputs": [],
   "source": [
    "bank = pd.read_csv('data/bank.csv')\n",
    "bank_bin = binerizeData(bank, verbose = False)\n",
    "\n",
    "bank_X =bank_bin.to_numpy()[:,0:(bank_bin.shape[1]-1)]\n",
    "bank_Y = bank_bin.to_numpy()[:,bank_bin.shape[1]-1]\n",
    "\n",
    "complex_grid = [1, 5, 10, 15, 20, 25, 40, 60, 80, 100, 120]\n",
    "price_limit = 45\n",
    "train_limit = 300\n",
    "\n",
    "accuracies = []\n",
    "accuracies_full = []\n",
    "\n",
    "for c in [30]:\n",
    "    accuracy = []\n",
    "    args = {'ruleComplexity': c}\n",
    "    for i in range(10):\n",
    "        X_train, X_test, y_train, y_test = train_test_split(bank_X, bank_Y, test_size=0.2)\n",
    "        print(y_test)\n",
    "        heart_classif = Classifier(X_train, y_train, args)\n",
    "        heart_classif.fit(verbose = False, timeLimit = train_limit, timeLimitPricing = price_limit)\n",
    "        acc = sum(heart_classif.predict(X_test) == y_test)/len(y_test)\n",
    "        accuracy.append(acc)\n",
    "    accuracies.append(np.mean(accuracy))\n",
    "    accuracies_full.append(accuracy)"
   ]
  },
  {
   "cell_type": "code",
   "execution_count": null,
   "metadata": {},
   "outputs": [],
   "source": [
    "print(np.mean(accuracies_full), np.std(accuracies_full))"
   ]
  }
 ],
 "metadata": {
  "kernelspec": {
   "display_name": "Python 3",
   "language": "python",
   "name": "python3"
  },
  "language_info": {
   "codemirror_mode": {
    "name": "ipython",
    "version": 3
   },
   "file_extension": ".py",
   "mimetype": "text/x-python",
   "name": "python",
   "nbconvert_exporter": "python",
   "pygments_lexer": "ipython3",
   "version": "3.7.6"
  }
 },
 "nbformat": 4,
 "nbformat_minor": 2
}
