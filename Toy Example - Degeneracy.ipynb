{
 "cells": [
  {
   "cell_type": "code",
   "execution_count": 2,
   "metadata": {},
   "outputs": [],
   "source": [
    "import numpy as np\n",
    "import pandas as pd\n",
    "from binerizer import *\n",
    "from DNFRuleModel import DNFRuleModel\n",
    "from Classifier import Classifier\n",
    "from sklearn.model_selection import train_test_split\n",
    "from test_helpers import readData\n",
    "import random\n",
    "import time\n",
    "import json\n",
    "import copy\n",
    "from scipy.stats import bernoulli\n"
   ]
  },
  {
   "cell_type": "code",
   "execution_count": 3,
   "metadata": {},
   "outputs": [],
   "source": [
    "dataInfo = {\n",
    "    'file': 'data/default.csv',\n",
    "    'groupCol': 'X2'\n",
    "}\n",
    "\n",
    "fixed_model_params= {\n",
    "                'ruleGenerator': 'DNF_IP',\n",
    "                'masterSolver':'simplex',\n",
    "                'numRulesToReturn': 100,\n",
    "                'fairness_module': 'unfair',\n",
    "                'ruleComplexity': 40,\n",
    "                'complexWeight': 0,\n",
    "            }\n",
    "data_X, data_Y, group = readData(dataInfo)"
   ]
  },
  {
   "cell_type": "code",
   "execution_count": 4,
   "metadata": {},
   "outputs": [],
   "source": [
    "data_X = pd.DataFrame([[1, 0, 1, 0], [0, 0, 1, 1]]).astype(np.bool).T.to_numpy()\n",
    "data_Y = np.array([0,0,1,0]).astype(np.bool)"
   ]
  },
  {
   "cell_type": "code",
   "execution_count": 4,
   "metadata": {},
   "outputs": [
    {
     "data": {
      "text/plain": [
       "True"
      ]
     },
     "execution_count": 4,
     "metadata": {},
     "output_type": "execute_result"
    }
   ],
   "source": [
    "not (1 == 2)"
   ]
  },
  {
   "cell_type": "code",
   "execution_count": 5,
   "metadata": {
    "scrolled": true
   },
   "outputs": [
    {
     "name": "stdout",
     "output_type": "stream",
     "text": [
      "Using DNF_IP\n",
      "Using license file /Users/connorlawless/gurobi.lic\n",
      "Academic license - for non-commercial use only\n",
      "using primal simplex\n",
      "Changed value of parameter Method to 0\n",
      "   Prev: -1  Min: -1  Max: 5  Default: -1\n",
      "Solving Restricted LP\n",
      "Parameter OutputFlag unchanged\n",
      "   Value: 1  Min: 0  Max: 1  Default: 1\n",
      "Gurobi Optimizer version 9.0.2 build v9.0.2rc0 (mac64)\n",
      "Optimize a model with 2 rows, 2 columns and 2 nonzeros\n",
      "Model fingerprint: 0xc024d1e6\n",
      "Coefficient statistics:\n",
      "  Matrix range     [1e+00, 1e+00]\n",
      "  Objective range  [1e+00, 1e+00]\n",
      "  Bounds range     [1e+00, 1e+00]\n",
      "  RHS range        [1e+00, 1e+00]\n",
      "Presolve removed 2 rows and 2 columns\n",
      "Presolve time: 0.02s\n",
      "Presolve: All rows and columns removed\n",
      "Iteration    Objective       Primal Inf.    Dual Inf.      Time\n",
      "       0    1.0000000e+00   0.000000e+00   0.000000e+00      0s\n",
      "\n",
      "Solved in 0 iterations and 0.02 seconds\n",
      "Optimal objective  1.000000000e+00\n",
      "Obj: 1\n",
      "Generating Rule\n",
      "Parameter OutputFlag unchanged\n",
      "   Value: 1  Min: 0  Max: 1  Default: 1\n",
      "Changed value of parameter TimeLimit to 45.0\n",
      "   Prev: inf  Min: 0.0  Max: inf  Default: inf\n",
      "Gurobi Optimizer version 9.0.2 build v9.0.2rc0 (mac64)\n",
      "Optimize a model with 5 rows, 6 columns and 10 nonzeros\n",
      "Model fingerprint: 0x9ac0b597\n",
      "Variable types: 0 continuous, 6 integer (6 binary)\n",
      "Coefficient statistics:\n",
      "  Matrix range     [1e+00, 4e+01]\n",
      "  Objective range  [1e+00, 1e+00]\n",
      "  Bounds range     [1e+00, 1e+00]\n",
      "  RHS range        [1e+00, 4e+01]\n",
      "Found heuristic solution: objective -1.0000000\n",
      "\n",
      "Explored 0 nodes (0 simplex iterations) in 0.03 seconds\n",
      "Thread count was 1 (of 8 available processors)\n",
      "\n",
      "Solution count 1: -1 \n",
      "\n",
      "Optimal solution found (tolerance 1.00e-04)\n",
      "Best objective -1.000000000000e+00, best bound -1.000000000000e+00, gap 0.0000%\n",
      "z[0] 1\n",
      "z[1] 1\n",
      "delta[0] 0\n",
      "delta[1] 0\n",
      "delta[2] 1\n",
      "delta[3] 0\n",
      "Adding 1 new rule(s)\n",
      "Solving Restricted LP\n",
      "Parameter OutputFlag unchanged\n",
      "   Value: 1  Min: 0  Max: 1  Default: 1\n",
      "Gurobi Optimizer version 9.0.2 build v9.0.2rc0 (mac64)\n",
      "Optimize a model with 2 rows, 3 columns and 4 nonzeros\n",
      "Model fingerprint: 0xfdfdb055\n",
      "Coefficient statistics:\n",
      "  Matrix range     [1e+00, 3e+00]\n",
      "  Objective range  [1e+00, 1e+00]\n",
      "  Bounds range     [1e+00, 1e+00]\n",
      "  RHS range        [1e+00, 1e+00]\n",
      "Presolve removed 2 rows and 3 columns\n",
      "Presolve time: 0.01s\n",
      "Presolve: All rows and columns removed\n",
      "Iteration    Objective       Primal Inf.    Dual Inf.      Time\n",
      "       0    0.0000000e+00   0.000000e+00   0.000000e+00      0s\n",
      "\n",
      "Solved in 0 iterations and 0.01 seconds\n",
      "Optimal objective  0.000000000e+00\n",
      "Obj: 0\n",
      "Generating Rule\n",
      "Parameter OutputFlag unchanged\n",
      "   Value: 1  Min: 0  Max: 1  Default: 1\n",
      "Changed value of parameter TimeLimit to 45.0\n",
      "   Prev: inf  Min: 0.0  Max: inf  Default: inf\n",
      "Gurobi Optimizer version 9.0.2 build v9.0.2rc0 (mac64)\n",
      "Optimize a model with 5 rows, 6 columns and 10 nonzeros\n",
      "Model fingerprint: 0x7afb50fe\n",
      "Variable types: 0 continuous, 6 integer (6 binary)\n",
      "Coefficient statistics:\n",
      "  Matrix range     [1e+00, 4e+01]\n",
      "  Objective range  [1e+00, 1e+00]\n",
      "  Bounds range     [1e+00, 1e+00]\n",
      "  RHS range        [1e+00, 4e+01]\n",
      "Found heuristic solution: objective 0.0000000\n",
      "\n",
      "Explored 0 nodes (0 simplex iterations) in 0.01 seconds\n",
      "Thread count was 1 (of 8 available processors)\n",
      "\n",
      "Solution count 1: 0 \n",
      "\n",
      "Optimal solution found (tolerance 1.00e-04)\n",
      "Best objective 0.000000000000e+00, best bound 0.000000000000e+00, gap 0.0000%\n",
      "No rules with reduced costs generated.\n",
      "No new rules generated.\n",
      "Solving final master problem to integer optimality\n",
      "Changed value of parameter TimeLimit to 300.0\n",
      "   Prev: inf  Min: 0.0  Max: inf  Default: inf\n",
      "Parameter OutputFlag unchanged\n",
      "   Value: 1  Min: 0  Max: 1  Default: 1\n",
      "Gurobi Optimizer version 9.0.2 build v9.0.2rc0 (mac64)\n",
      "Optimize a model with 2 rows, 3 columns and 4 nonzeros\n",
      "Model fingerprint: 0xfdfd3bf5\n",
      "Variable types: 1 continuous, 2 integer (2 binary)\n",
      "Coefficient statistics:\n",
      "  Matrix range     [1e+00, 3e+00]\n",
      "  Objective range  [1e+00, 1e+00]\n",
      "  Bounds range     [1e+00, 1e+00]\n",
      "  RHS range        [1e+00, 1e+00]\n",
      "Found heuristic solution: objective 1.0000000\n",
      "Presolve removed 2 rows and 3 columns\n",
      "Presolve time: 0.00s\n",
      "Presolve: All rows and columns removed\n",
      "\n",
      "Explored 0 nodes (0 simplex iterations) in 0.01 seconds\n",
      "Thread count was 1 (of 8 available processors)\n",
      "\n",
      "Solution count 2: 0 \n",
      "\n",
      "Optimal solution found (tolerance 1.00e-04)\n",
      "Best objective 0.000000000000e+00, best bound 0.000000000000e+00, gap 0.0000%\n",
      "Obj: 0\n"
     ]
    },
    {
     "data": {
      "text/plain": [
       "<Classifier.Classifier at 0x7fbc100f9f10>"
      ]
     },
     "execution_count": 5,
     "metadata": {},
     "output_type": "execute_result"
    }
   ],
   "source": [
    "classif = Classifier(data_X[:20000,:], data_Y[:20000], fixed_model_params, ruleGenerator = 'Generic')\n",
    "#classif = Classifier(data_X, data_Y, fixed_model_params, ruleGenerator = 'Generic')\n",
    "\n",
    "classif.fit(verbose = True, \n",
    "                timeLimit = 300, \n",
    "                timeLimitPricing = 45)"
   ]
  },
  {
   "cell_type": "code",
   "execution_count": 12,
   "metadata": {},
   "outputs": [
    {
     "data": {
      "text/plain": [
       "0.819"
      ]
     },
     "execution_count": 12,
     "metadata": {},
     "output_type": "execute_result"
    }
   ],
   "source": [
    "sum(classif.predict(data_X[20000:,:]) == data_Y[20000:])/len(data_Y[20000:])"
   ]
  },
  {
   "cell_type": "code",
   "execution_count": 11,
   "metadata": {},
   "outputs": [
    {
     "data": {
      "text/plain": [
       "5"
      ]
     },
     "execution_count": 11,
     "metadata": {},
     "output_type": "execute_result"
    }
   ],
   "source": [
    "np.sum(np.array([[1,1],[0,1],[1,1]]))"
   ]
  }
 ],
 "metadata": {
  "kernelspec": {
   "display_name": "Python 3",
   "language": "python",
   "name": "python3"
  },
  "language_info": {
   "codemirror_mode": {
    "name": "ipython",
    "version": 3
   },
   "file_extension": ".py",
   "mimetype": "text/x-python",
   "name": "python",
   "nbconvert_exporter": "python",
   "pygments_lexer": "ipython3",
   "version": "3.7.6"
  }
 },
 "nbformat": 4,
 "nbformat_minor": 4
}
