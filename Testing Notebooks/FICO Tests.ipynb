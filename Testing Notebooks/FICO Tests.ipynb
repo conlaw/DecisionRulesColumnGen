{
 "cells": [
  {
   "cell_type": "code",
   "execution_count": 28,
   "metadata": {},
   "outputs": [],
   "source": [
    "from test_helpers2 import run_test\n",
    "import json\n",
    "import numpy as np\n",
    "from binerizer import *"
   ]
  },
  {
   "cell_type": "code",
   "execution_count": 31,
   "metadata": {},
   "outputs": [
    {
     "data": {
      "text/plain": [
       "0.7135044033980205"
      ]
     },
     "execution_count": 31,
     "metadata": {},
     "output_type": "execute_result"
    }
   ],
   "source": [
    "from sklearn import tree\n",
    "import pandas as pd\n",
    "from sklearn.model_selection import cross_val_score\n",
    "\n",
    "fico = pd.read_csv('data/fico_clean_final.csv')\n",
    "fico = fico.fillna(0)\n",
    "X = fico.drop('Y', axis = 1).to_numpy()\n",
    "Y = fico['Y'].to_numpy()\n",
    "\n",
    "min_samples = [50,100,150,200,250,400,450,500,600,700,1000]\n",
    "results = []\n",
    "results_sd = []\n",
    "for sam in min_samples:\n",
    "    cart = tree.DecisionTreeClassifier(min_samples_leaf = sam)\n",
    "    scores = cross_val_score(cart, X, Y, cv=10, scoring='accuracy')\n",
    "    results.append(scores.mean())\n",
    "    results_sd.append(scores.std())\n",
    "\n",
    "max(results)"
   ]
  },
  {
   "cell_type": "code",
   "execution_count": 15,
   "metadata": {},
   "outputs": [
    {
     "data": {
      "text/plain": [
       "0.07741795185297794"
      ]
     },
     "execution_count": 15,
     "metadata": {},
     "output_type": "execute_result"
    }
   ],
   "source": [
    "results_sd[np.argmax(results)]"
   ]
  },
  {
   "cell_type": "code",
   "execution_count": 20,
   "metadata": {},
   "outputs": [
    {
     "data": {
      "text/plain": [
       "(1,)"
      ]
     },
     "execution_count": 20,
     "metadata": {},
     "output_type": "execute_result"
    }
   ],
   "source": [
    "myTup = (1,)\n",
    "myTup"
   ]
  },
  {
   "cell_type": "code",
   "execution_count": 14,
   "metadata": {},
   "outputs": [],
   "source": [
    "tree.DecisionTreeClassifier?"
   ]
  },
  {
   "cell_type": "code",
   "execution_count": null,
   "metadata": {},
   "outputs": [
    {
     "name": "stdout",
     "output_type": "stream",
     "text": [
      "{'price_limit': 10, 'train_limit': 10, 'fixed_model_params': {'ruleGenerator': 'DNF_IP', 'numRulesToReturn': 100, 'epsilon': 1, 'fairness_module': 'unfair'}, 'num_hp_splits': 3, 'name': 'FICO-Time:10', 'hyper_paramaters': {'ruleComplexity': [10, 20, 30]}}\n",
      "3 parameters provided for hyper-parameter ruleComplexity\n",
      "{'price_limit': 45, 'train_limit': 300, 'fixed_model_params': {'ruleGenerator': 'DNF_IP', 'numRulesToReturn': 100, 'epsilon': 1, 'fairness_module': 'unfair'}, 'num_hp_splits': 3, 'name': 'FICO-Time:300', 'hyper_paramaters': {'ruleComplexity': [10, 20, 30]}}\n",
      "3 parameters provided for hyper-parameter ruleComplexity\n",
      "{'price_limit': 45, 'train_limit': 600, 'fixed_model_params': {'ruleGenerator': 'DNF_IP', 'numRulesToReturn': 100, 'epsilon': 1, 'fairness_module': 'unfair'}, 'num_hp_splits': 3, 'name': 'FICO-Time:600', 'hyper_paramaters': {'ruleComplexity': [10, 20, 30]}}\n",
      "3 parameters provided for hyper-parameter ruleComplexity\n",
      "****** Running split 0 ******\n",
      "**** Running Test FICO-Time:10 ****\n",
      "Split 0\n",
      "unfair\n",
      "Using DNF_IP\n",
      "Using license file /Users/connorlawless/gurobi.lic\n",
      "Academic license - for non-commercial use only\n",
      "Changed value of parameter Method to 2\n",
      "   Prev: -1  Min: -1  Max: 5  Default: -1\n",
      "1960 1960 932 932\n",
      "Time limit for column generation exceeded. Solving MIP.\n",
      "Results: (Acc) 0.629 (Time) 10 (Complex) 4 (Cols Gen) 3  (Num Iter) 1\n",
      "{'accuracy': [0.6290630975143403], 'mip': [[2987.0]], 'mip_final': [2987.0], 'ip': [2356.0], 'complexity': [4.0], 'fairness': [], 'times': [10.355509021], 'num_iter': [1], 'num_cols_gen': [3], 'hp': 'ruleComplexity', 'hp_val': 10, 'mean_accuracy': 0.6290630975143403, 'std_accuracy': 0.0, 'mean_mip_final': 2987.0, 'std_mip_final': 0.0, 'mean_ip': 2356.0, 'std_ip': 0.0, 'mean_complexity': 4.0, 'std_complexity': 0.0, 'mean_fairness': nan, 'std_fairness': nan, 'mean_times': 10.355509021, 'std_times': 0.0, 'mean_num_iter': 1.0, 'std_num_iter': 0.0, 'mean_num_cols_gen': 3.0, 'std_num_cols_gen': 0.0}\n",
      "Split 1\n",
      "unfair\n",
      "Using DNF_IP\n",
      "Changed value of parameter Method to 2\n",
      "   Prev: -1  Min: -1  Max: 5  Default: -1\n"
     ]
    },
    {
     "name": "stderr",
     "output_type": "stream",
     "text": [
      "/anaconda3/envs/decisionRule/lib/python3.7/site-packages/numpy/core/fromnumeric.py:3335: RuntimeWarning: Mean of empty slice.\n",
      "  out=out, **kwargs)\n",
      "/anaconda3/envs/decisionRule/lib/python3.7/site-packages/numpy/core/_methods.py:161: RuntimeWarning: invalid value encountered in double_scalars\n",
      "  ret = ret.dtype.type(ret / rcount)\n",
      "/anaconda3/envs/decisionRule/lib/python3.7/site-packages/numpy/core/_methods.py:217: RuntimeWarning: Degrees of freedom <= 0 for slice\n",
      "  keepdims=keepdims)\n",
      "/anaconda3/envs/decisionRule/lib/python3.7/site-packages/numpy/core/_methods.py:186: RuntimeWarning: invalid value encountered in true_divide\n",
      "  arrmean, rcount, out=arrmean, casting='unsafe', subok=False)\n",
      "/anaconda3/envs/decisionRule/lib/python3.7/site-packages/numpy/core/_methods.py:209: RuntimeWarning: invalid value encountered in double_scalars\n",
      "  ret = ret.dtype.type(ret / rcount)\n"
     ]
    },
    {
     "name": "stdout",
     "output_type": "stream",
     "text": [
      "1956 1956 899 899\n",
      "1982 1982 964 964\n",
      "Time limit for column generation exceeded. Solving MIP.\n",
      "Results: (Acc) 0.682 (Time) 19 (Complex) 4 (Cols Gen) 15  (Num Iter) 2\n",
      "{'accuracy': [0.6290630975143403, 0.6822817080943276], 'mip': [[2987.0], [2999.0, 1968.142857142857]], 'mip_final': [2987.0, 1968.142857142857], 'ip': [2356.0, 1969.0], 'complexity': [4.0, 4.0], 'fairness': [], 'times': [10.355509021, 19.440351309], 'num_iter': [1, 2], 'num_cols_gen': [3, 15], 'hp': 'ruleComplexity', 'hp_val': 10, 'mean_accuracy': 0.6556724028043339, 'std_accuracy': 0.026609305289993668, 'mean_mip_final': 2477.5714285714284, 'std_mip_final': 509.42857142857144, 'mean_ip': 2162.5, 'std_ip': 193.5, 'mean_complexity': 4.0, 'std_complexity': 0.0, 'mean_fairness': nan, 'std_fairness': nan, 'mean_times': 14.897930165, 'std_times': 4.542421144, 'mean_num_iter': 1.5, 'std_num_iter': 0.5, 'mean_num_cols_gen': 9.0, 'std_num_cols_gen': 6.0}\n",
      "Split 2\n",
      "unfair\n",
      "Using DNF_IP\n",
      "Changed value of parameter Method to 2\n",
      "   Prev: -1  Min: -1  Max: 5  Default: -1\n",
      "2018 2018 962 962\n",
      "Time limit for column generation exceeded. Solving MIP.\n",
      "Results: (Acc) 0.615 (Time) 10 (Complex) 8 (Cols Gen) 4  (Num Iter) 1\n",
      "{'accuracy': [0.6290630975143403, 0.6822817080943276, 0.6150414276609305], 'mip': [[2987.0], [2999.0, 1968.142857142857], [3002.0]], 'mip_final': [2987.0, 1968.142857142857, 3002.0], 'ip': [2356.0, 1969.0, 2399.0], 'complexity': [4.0, 4.0, 8.0], 'fairness': [], 'times': [10.355509021, 19.440351309, 10.272401145000003], 'num_iter': [1, 2, 1], 'num_cols_gen': [3, 15, 4], 'hp': 'ruleComplexity', 'hp_val': 10, 'mean_accuracy': 0.6421287444231994, 'std_accuracy': 0.0289637379614661, 'mean_mip_final': 2652.3809523809523, 'std_mip_final': 483.86814886653616, 'mean_ip': 2241.3333333333335, 'std_ip': 193.36723840632592, 'mean_complexity': 5.333333333333333, 'std_complexity': 1.8856180831641267, 'mean_fairness': nan, 'std_fairness': nan, 'mean_times': 13.356087158333333, 'std_times': 4.302358223197984, 'mean_num_iter': 1.3333333333333333, 'std_num_iter': 0.4714045207910317, 'mean_num_cols_gen': 7.333333333333333, 'std_num_cols_gen': 5.436502143433364}\n",
      "Split 0\n",
      "unfair\n",
      "Using DNF_IP\n",
      "Changed value of parameter Method to 2\n",
      "   Prev: -1  Min: -1  Max: 5  Default: -1\n",
      "1991 1991 922 922\n",
      "Time limit for column generation exceeded. Solving MIP.\n",
      "Results: (Acc) 0.633 (Time) 10 (Complex) 4 (Cols Gen) 2  (Num Iter) 1\n",
      "{'accuracy': [0.6332058636073933], 'mip': [[2987.0]], 'mip_final': [2987.0], 'ip': [2266.0], 'complexity': [4.0], 'fairness': [], 'times': [10.330239376999998], 'num_iter': [1], 'num_cols_gen': [2], 'hp': 'ruleComplexity', 'hp_val': 20, 'mean_accuracy': 0.6332058636073933, 'std_accuracy': 0.0, 'mean_mip_final': 2987.0, 'std_mip_final': 0.0, 'mean_ip': 2266.0, 'std_ip': 0.0, 'mean_complexity': 4.0, 'std_complexity': 0.0, 'mean_fairness': nan, 'std_fairness': nan, 'mean_times': 10.330239376999998, 'std_times': 0.0, 'mean_num_iter': 1.0, 'std_num_iter': 0.0, 'mean_num_cols_gen': 2.0, 'std_num_cols_gen': 0.0}\n",
      "Split 1\n",
      "unfair\n",
      "Using DNF_IP\n",
      "Changed value of parameter Method to 2\n",
      "   Prev: -1  Min: -1  Max: 5  Default: -1\n"
     ]
    }
   ],
   "source": [
    "dataInfo = {\n",
    "    'file': 'data/fico_clean.csv',\n",
    "    'groupCol': 'Y'\n",
    "}\n",
    "globalArgs = {\n",
    "    'num_splits': 10,\n",
    "}\n",
    "\n",
    "tests = []\n",
    "for time in [300]:\n",
    "    test_params = {\n",
    "            'price_limit': min(time,45),\n",
    "            'train_limit': time,\n",
    "            'fixed_model_params': {\n",
    "                'ruleGenerator': 'DNF_IP',\n",
    "                'numRulesToReturn': 100,\n",
    "                'epsilon': 1,\n",
    "                'fairness_module': 'unfair'\n",
    "            },\n",
    "            'num_hp_splits': 3,\n",
    "            'name': 'FICO-Time:'+str(time),\n",
    "            'hyper_paramaters': {\n",
    "                'ruleComplexity': [10, 20, 30]\n",
    "            }\n",
    "        }\n",
    "    tests.append(test_params)\n",
    "\n",
    "run_test(tests, globalArgs, dataInfo, verbose = False)\n"
   ]
  }
 ],
 "metadata": {
  "kernelspec": {
   "display_name": "Python 3",
   "language": "python",
   "name": "python3"
  },
  "language_info": {
   "codemirror_mode": {
    "name": "ipython",
    "version": 3
   },
   "file_extension": ".py",
   "mimetype": "text/x-python",
   "name": "python",
   "nbconvert_exporter": "python",
   "pygments_lexer": "ipython3",
   "version": "3.7.6"
  }
 },
 "nbformat": 4,
 "nbformat_minor": 4
}
