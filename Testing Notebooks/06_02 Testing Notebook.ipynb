{
 "cells": [
  {
   "cell_type": "code",
   "execution_count": null,
   "metadata": {},
   "outputs": [],
   "source": [
    "from test_helpers2 import readData, run_fairTest, runSingleTest, TestResults\n",
    "import pandas as pd"
   ]
  },
  {
   "cell_type": "code",
   "execution_count": null,
   "metadata": {},
   "outputs": [],
   "source": [
    "dataInfo = {\n",
    "    'file': 'data/compas.csv',\n",
    "    'groupCol': 'race'\n",
    "}\n",
    "globalArgs = {\n",
    "    'num_splits': 5,\n",
    "}\n",
    "\n",
    "tests = []\n",
    "test_params = {\n",
    "            'price_limit': 30,\n",
    "            'train_limit': 150,\n",
    "            'fixed_model_params': {\n",
    "                'ruleGenerator': 'DNF_IP',\n",
    "                'masterSolver':'Default',\n",
    "                'numRulesToReturn': 100,\n",
    "                'fairness_module': 'EqOfOp'\n",
    "            },\n",
    "            'num_hp_splits': 2,\n",
    "            'name': 'DNF',\n",
    "            'hyper_paramaters': {\n",
    "                'epsilon': [0.02,1],\n",
    "                'ruleComplexity': [5, 15, 30]\n",
    "            }\n",
    "        }\n",
    "tests.append(test_params)\n",
    "\n",
    "test_params = {\n",
    "            'price_limit': 45,\n",
    "            'train_limit': 300,\n",
    "            'fixed_model_params': {\n",
    "                'ruleGenerator': 'DNF_IP_OPT',\n",
    "                'masterSolver':'Default',\n",
    "                'numRulesToReturn': 100,\n",
    "                'fairness_module': 'EqOfOp'\n",
    "            },\n",
    "            'num_hp_splits': 2,\n",
    "            'name': 'DNFOPT',\n",
    "            'hyper_paramaters': {\n",
    "                'epsilon': [0.02,1],\n",
    "                'ruleComplexity': [15]\n",
    "            }\n",
    "        }\n",
    "tests.append(test_params)\n",
    "\n",
    "\n",
    "epsilons = [0.01, 0.02, 1]\n",
    "test_complex = [5, 15, 30]\n",
    "run_fairTest(epsilons, tests, globalArgs, dataInfo, save_rule_set = True, verbose = False, test_complex = test_complex)"
   ]
  }
 ],
 "metadata": {
  "kernelspec": {
   "display_name": "Python 3",
   "language": "python",
   "name": "python3"
  },
  "language_info": {
   "codemirror_mode": {
    "name": "ipython",
    "version": 3
   },
   "file_extension": ".py",
   "mimetype": "text/x-python",
   "name": "python",
   "nbconvert_exporter": "python",
   "pygments_lexer": "ipython3",
   "version": "3.7.6"
  }
 },
 "nbformat": 4,
 "nbformat_minor": 4
}
