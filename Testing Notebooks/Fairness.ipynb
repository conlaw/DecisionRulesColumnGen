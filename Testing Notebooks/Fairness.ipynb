{
 "cells": [
  {
   "cell_type": "code",
   "execution_count": 1,
   "metadata": {},
   "outputs": [],
   "source": [
    "from test_helpers import run_test\n",
    "import numpy as np"
   ]
  },
  {
   "cell_type": "code",
   "execution_count": 2,
   "metadata": {},
   "outputs": [
    {
     "data": {
      "text/plain": [
       "array([False,  True,  True, False])"
      ]
     },
     "execution_count": 2,
     "metadata": {},
     "output_type": "execute_result"
    }
   ],
   "source": [
    "a = np.array([True, True, False, False])\n",
    "b = np.array([True, False, True, False])\n",
    "\n",
    "(~a & b) | (a & ~b)"
   ]
  },
  {
   "cell_type": "code",
   "execution_count": null,
   "metadata": {
    "scrolled": true
   },
   "outputs": [
    {
     "name": "stdout",
     "output_type": "stream",
     "text": [
      "{'data': 'data/german.csv', 'price_limit': 10, 'train_limit': 10, 'groupCol': 'gender', 'fixed_model_params': {'ruleGenerator': 'DNF_IP', 'numRulesToReturn': 100, 'epsilon': 0.05}, 'test_name': 'heart_greedy', 'num_splits': 10, 'num_hp_splits': 3, 'hyper_paramaters': {'ruleComplexity': [5, 10, 20, 50, 100]}}\n",
      "5 parameters provided for hyper-parameter ruleComplexity\n",
      "Reading in data\n",
      "Index(['X1_A11', 'X1_A12', 'X1_A13', 'X1_A14', 'X1_A11', 'X1_A12', 'X1_A13',\n",
      "       'X1_A14', 'X2_9.0*', 'X2_12.0*',\n",
      "       ...\n",
      "       'X19_A191', 'X19_A192', 'X19_A191', 'X19_A192', 'X20_A201', 'X20_A202',\n",
      "       'X20_A201', 'X20_A202', 'gender', 'Y'],\n",
      "      dtype='object', length=184) gender\n",
      "Running split 0\n",
      "Testing ruleComplexity value 5\n",
      "Split 0\n",
      "Using DNF_IP\n",
      "Using license file /Users/connorlawless/gurobi.lic\n",
      "Academic license - for non-commercial use only\n",
      "Time limit for column generation exceeded. Solving MIP.\n",
      "Results: (Acc) 0.706 (Time) 11 (Complex) 3 (Cols Gen) 2  (Num Iter) 1\n",
      "Split 1\n",
      "Using DNF_IP\n",
      "Time limit for column generation exceeded. Solving MIP.\n",
      "Results: (Acc) 0.711 (Time) 11 (Complex) 3 (Cols Gen) 8  (Num Iter) 1\n",
      "Split 2\n",
      "Using DNF_IP\n"
     ]
    }
   ],
   "source": [
    "for eps in [0.2, 0.1, 0.05, 0.01]:\n",
    "    test_params = {\n",
    "        'data': 'data/german.csv',\n",
    "        'price_limit': 10,\n",
    "        'train_limit': 10,\n",
    "        'groupCol': 'gender',\n",
    "        'fixed_model_params': {\n",
    "            'ruleGenerator': 'DNF_IP',\n",
    "            'numRulesToReturn': 100,\n",
    "            'epsilon': 0.05,\n",
    "        },\n",
    "        'test_name': 'heart_greedy',\n",
    "        'num_splits': 10,\n",
    "        'num_hp_splits': 3,\n",
    "        'hyper_paramaters': {\n",
    "            'ruleComplexity': [5,10,20,50,100]\n",
    "        }\n",
    "    }\n",
    "    results = run_test(test_params)\n",
    "    r = json.dumps(results)\n",
    "    with open(\"results/German_DNF-\"+str(eps)+\".txt\", \"w\") as text_file:\n",
    "        text_file.write(r)\n",
    "    \n",
    "    !git add results/German_DNF-{str(eps)}.txt\n",
    "    !git commit -m 'pushing results'\n",
    "    !git push"
   ]
  }
 ],
 "metadata": {
  "kernelspec": {
   "display_name": "Python 3",
   "language": "python",
   "name": "python3"
  },
  "language_info": {
   "codemirror_mode": {
    "name": "ipython",
    "version": 3
   },
   "file_extension": ".py",
   "mimetype": "text/x-python",
   "name": "python",
   "nbconvert_exporter": "python",
   "pygments_lexer": "ipython3",
   "version": "3.7.6"
  }
 },
 "nbformat": 4,
 "nbformat_minor": 4
}
