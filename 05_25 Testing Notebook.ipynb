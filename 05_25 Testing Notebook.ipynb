{
 "cells": [
  {
   "cell_type": "code",
   "execution_count": null,
   "metadata": {},
   "outputs": [],
   "source": [
    "from test_helpers2 import run_fairTest"
   ]
  },
  {
   "cell_type": "code",
   "execution_count": null,
   "metadata": {},
   "outputs": [],
   "source": [
    "dataInfo = {\n",
    "    'file': 'data/german.csv',\n",
    "    'groupCol': 'gender'\n",
    "}\n",
    "globalArgs = {\n",
    "    'num_splits': 10,\n",
    "}\n",
    "\n",
    "tests = []\n",
    "test_params = {\n",
    "            'price_limit': 45,\n",
    "            'train_limit': 300,\n",
    "            'fixed_model_params': {\n",
    "                'ruleGenerator': 'DNF_IP',\n",
    "                'ruleComplexity': 17,\n",
    "                'numRulesToReturn': 100,\n",
    "                'fairness_module': 'EqOfOp'\n",
    "            },\n",
    "            'num_hp_splits': 2,\n",
    "            'name': 'GermanFairCurve',\n",
    "            'hyper_paramaters': {\n",
    "                'epsilon': [0.02,1]\n",
    "            }\n",
    "        }\n",
    "tests.append(test_params)\n",
    "\n",
    "epsilons = [0, 0.01, 0.05, 0.1, 0.2, 1]\n",
    "run_fairTest(epsilons, tests, globalArgs, dataInfo, save_rule_set = True, verbose = False)"
   ]
  }
 ],
 "metadata": {
  "kernelspec": {
   "display_name": "Python 3",
   "language": "python",
   "name": "python3"
  },
  "language_info": {
   "codemirror_mode": {
    "name": "ipython",
    "version": 3
   },
   "file_extension": ".py",
   "mimetype": "text/x-python",
   "name": "python",
   "nbconvert_exporter": "python",
   "pygments_lexer": "ipython3",
   "version": "3.7.6"
  }
 },
 "nbformat": 4,
 "nbformat_minor": 4
}
