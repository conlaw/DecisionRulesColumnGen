{
 "cells": [
  {
   "cell_type": "code",
   "execution_count": 1,
   "metadata": {},
   "outputs": [],
   "source": [
    "import pandas as pd\n",
    "from test_helpers import *"
   ]
  },
  {
   "cell_type": "code",
   "execution_count": 3,
   "metadata": {},
   "outputs": [
    {
     "name": "stdout",
     "output_type": "stream",
     "text": [
      "**** DATASET default ******\n",
      "***** FOLD 0 ******\n",
      "Using Hybrid\n",
      "\n",
      "--------------------------------------------\n",
      "Warning: your license will expire in 9 days\n",
      "--------------------------------------------\n",
      "\n",
      "Using license file /Users/connorlawless/gurobi.lic\n",
      "Academic license - for non-commercial use only\n",
      "Using barrier with default crossover\n",
      "Changed value of parameter Method to 2\n",
      "   Prev: -1  Min: -1  Max: 5  Default: -1\n",
      "Time limit for column generation exceeded. Solving MIP.\n",
      "Changed value of parameter TimeLimit to 300.0\n",
      "   Prev: inf  Min: 0.0  Max: inf  Default: inf\n"
     ]
    },
    {
     "name": "stderr",
     "output_type": "stream",
     "text": [
      "/Users/connorlawless/opt/anaconda3/envs/CourseSchedule/lib/python3.7/site-packages/numpy/core/fromnumeric.py:3373: RuntimeWarning: Mean of empty slice.\n",
      "  out=out, **kwargs)\n",
      "/Users/connorlawless/opt/anaconda3/envs/CourseSchedule/lib/python3.7/site-packages/numpy/core/_methods.py:170: RuntimeWarning: invalid value encountered in double_scalars\n",
      "  ret = ret.dtype.type(ret / rcount)\n",
      "/Users/connorlawless/opt/anaconda3/envs/CourseSchedule/lib/python3.7/site-packages/numpy/core/_methods.py:234: RuntimeWarning: Degrees of freedom <= 0 for slice\n",
      "  keepdims=keepdims)\n",
      "/Users/connorlawless/opt/anaconda3/envs/CourseSchedule/lib/python3.7/site-packages/numpy/core/_methods.py:195: RuntimeWarning: invalid value encountered in true_divide\n",
      "  arrmean, rcount, out=arrmean, casting='unsafe', subok=False)\n",
      "/Users/connorlawless/opt/anaconda3/envs/CourseSchedule/lib/python3.7/site-packages/numpy/core/_methods.py:226: RuntimeWarning: invalid value encountered in double_scalars\n",
      "  ret = ret.dtype.type(ret / rcount)\n"
     ]
    },
    {
     "name": "stdout",
     "output_type": "stream",
     "text": [
      "Results: (Acc) 0.783 (Time) 300 (Complex) 0 (Cols Gen) 364  (Num Iter) 194\n",
      "{'accuracy': [0.7833333333333333], 'accuracy_train': [0.7782962962962963], 'mip': [[5986.0, 5986.0, 5986.0, 5986.0, 5986.0, 5986.0, 5986.0, 5986.0, 5986.0, 5986.0, 5986.0, 5986.0, 5986.0, 5986.0, 5986.0, 5986.0, 5986.0, 5986.0, 5986.0, 5986.0, 5986.0, 5986.0, 5986.0, 5986.0, 5986.0, 5986.0, 5986.0, 5986.0, 5986.0, 5986.0, 5986.0, 5986.0, 5986.0, 5986.0, 5986.0, 5986.0, 5986.0, 5986.0, 5986.0, 5986.0, 5986.0, 5986.0, 5986.0, 5986.0, 5986.0, 5986.0, 5986.0, 5986.0, 5986.0, 5986.0, 5986.0, 5986.0, 5986.0, 5986.0, 5986.0, 5986.0, 5986.0, 5986.0, 5986.0, 5986.0, 5986.0, 5986.0, 5986.0, 5986.0, 5986.0, 5986.0, 5986.0, 5986.0, 5986.0, 5986.0, 5986.0, 5986.0, 5986.0, 5986.0, 5986.0, 5986.0, 5986.0, 5986.0, 5986.0, 5986.0, 5986.0, 5986.0, 5986.0, 5986.0, 5986.0, 5986.0, 5986.0, 5986.0, 5986.0, 5986.0, 5986.0, 5986.0, 5986.0, 5986.0, 5986.0, 5986.0, 5986.0, 5986.0, 5986.0, 5986.0, 5986.0, 5986.0, 5986.0, 5986.0, 5986.0, 5986.0, 5986.0, 5986.0, 5986.0, 5986.0, 5986.0, 5986.0, 5986.0, 5986.0, 5986.0, 5986.0, 5986.0, 5986.0, 5986.0, 5986.0, 5986.0, 5986.0, 5986.0, 5986.0, 5986.0, 5986.0, 5986.0, 5986.0, 5986.0, 5986.0, 5986.0, 5986.0, 5986.0, 5986.0, 5986.0, 5986.0, 5986.0, 5986.0, 5986.0, 5986.0, 5986.0, 5986.0, 5986.0, 5986.0, 5986.0, 5986.0, 5986.0, 5986.0, 5986.0, 5986.0, 5986.0, 5986.0, 5986.0, 5986.0, 5986.0, 5986.0, 5986.0, 5986.0, 5986.0, 5986.0, 5986.0, 5986.0, 5986.0, 5986.0, 5986.0, 5986.0, 5986.0, 5986.0, 5986.0, 5986.0, 5986.0, 5986.0, 5986.0, 5986.0, 5986.0, 5986.0, 5986.0, 5986.0, 5986.0, 5986.0, 5986.0, 5986.0, 5986.0, 5986.0, 5986.0, 5986.0, 5986.0, 5986.0, 5986.0, 5986.0, 5986.0, 5986.0, 5986.0, 5986.0]], 'mip_final': [5986.0], 'ip': [5986.0], 'complexity': [0.0], 'eqOfOp': [], 'times': [300.219709733], 'num_iter': [194], 'num_cols_gen': [364], 'hamming': [0.21666666666666667], 'hamming_pos': [1.0], 'hamming_neg': [0.0], 'hamming_tr': [0.2217037037037037], 'hamming_pos_tr': [1.0], 'hamming_neg_tr': [0.0], 'eps': 1, 'C': 30, 'mean_accuracy': 0.7833333333333333, 'std_accuracy': 0.0, 'mean_accuracy_train': 0.7782962962962963, 'std_accuracy_train': 0.0, 'mean_mip_final': 5986.0, 'std_mip_final': 0.0, 'mean_ip': 5986.0, 'std_ip': 0.0, 'mean_complexity': 0.0, 'std_complexity': 0.0, 'mean_eqOfOp': nan, 'std_eqOfOp': nan, 'mean_times': 300.219709733, 'std_times': 0.0, 'mean_num_iter': 194.0, 'std_num_iter': 0.0, 'mean_num_cols_gen': 364.0, 'std_num_cols_gen': 0.0, 'mean_hamming': 0.21666666666666667, 'std_hamming': 0.0, 'mean_hamming_pos': 1.0, 'std_hamming_pos': 0.0, 'mean_hamming_neg': 0.0, 'std_hamming_neg': 0.0, 'mean_hamming_tr': 0.2217037037037037, 'std_hamming_tr': 0.0, 'mean_hamming_pos_tr': 1.0, 'std_hamming_pos_tr': 0.0, 'mean_hamming_neg_tr': 0.0, 'std_hamming_neg_tr': 0.0}\n",
      "***** FOLD 1 ******\n",
      "Using Hybrid\n",
      "Using barrier with default crossover\n",
      "Changed value of parameter Method to 2\n",
      "   Prev: -1  Min: -1  Max: 5  Default: -1\n"
     ]
    },
    {
     "ename": "KeyboardInterrupt",
     "evalue": "",
     "output_type": "error",
     "traceback": [
      "\u001b[0;31m---------------------------------------------------------------------------\u001b[0m",
      "\u001b[0;31mKeyboardInterrupt\u001b[0m                         Traceback (most recent call last)",
      "\u001b[0;32m<ipython-input-3-bd53efc920cf>\u001b[0m in \u001b[0;36m<module>\u001b[0;34m\u001b[0m\n\u001b[1;32m     52\u001b[0m                                              \u001b[0mtest\u001b[0m\u001b[0;34m[\u001b[0m\u001b[0mgroup_var\u001b[0m\u001b[0;34m]\u001b[0m\u001b[0;34m.\u001b[0m\u001b[0mto_numpy\u001b[0m\u001b[0;34m(\u001b[0m\u001b[0;34m)\u001b[0m\u001b[0;34m,\u001b[0m\u001b[0;34m\u001b[0m\u001b[0;34m\u001b[0m\u001b[0m\n\u001b[1;32m     53\u001b[0m                                              \u001b[0mtest_params\u001b[0m\u001b[0;34m,\u001b[0m\u001b[0;34m\u001b[0m\u001b[0;34m\u001b[0m\u001b[0m\n\u001b[0;32m---> 54\u001b[0;31m                                              saved_rules, res, colGen = True, rule_filter = False)\n\u001b[0m\u001b[1;32m     55\u001b[0m \u001b[0;34m\u001b[0m\u001b[0m\n\u001b[1;32m     56\u001b[0m                 \u001b[0mrules\u001b[0m \u001b[0;34m=\u001b[0m \u001b[0mclassif\u001b[0m\u001b[0;34m.\u001b[0m\u001b[0mruleMod\u001b[0m\u001b[0;34m.\u001b[0m\u001b[0mrules\u001b[0m\u001b[0;34m\u001b[0m\u001b[0;34m\u001b[0m\u001b[0m\n",
      "\u001b[0;32m~/Documents/DecisionRulesColumnGen/test_helpers.py\u001b[0m in \u001b[0;36mrunSingleTest\u001b[0;34m(X_tr, Y_tr, g_tr, X_t, Y_t, g_t, test_params, rules, res, colGen, rule_filter)\u001b[0m\n\u001b[1;32m    246\u001b[0m                 \u001b[0mtimeLimitPricing\u001b[0m \u001b[0;34m=\u001b[0m \u001b[0mtest_params\u001b[0m\u001b[0;34m[\u001b[0m\u001b[0;34m'price_limit'\u001b[0m\u001b[0;34m]\u001b[0m\u001b[0;34m,\u001b[0m\u001b[0;34m\u001b[0m\u001b[0;34m\u001b[0m\u001b[0m\n\u001b[1;32m    247\u001b[0m                 \u001b[0mcolGen\u001b[0m \u001b[0;34m=\u001b[0m \u001b[0mcolGen\u001b[0m\u001b[0;34m,\u001b[0m\u001b[0;34m\u001b[0m\u001b[0;34m\u001b[0m\u001b[0m\n\u001b[0;32m--> 248\u001b[0;31m                 rule_filter = rule_filter)\n\u001b[0m\u001b[1;32m    249\u001b[0m     \u001b[0mtime_to_exec\u001b[0m \u001b[0;34m=\u001b[0m \u001b[0mtime\u001b[0m\u001b[0;34m.\u001b[0m\u001b[0mperf_counter\u001b[0m\u001b[0;34m(\u001b[0m\u001b[0;34m)\u001b[0m \u001b[0;34m-\u001b[0m \u001b[0mstart_time\u001b[0m\u001b[0;34m\u001b[0m\u001b[0;34m\u001b[0m\u001b[0m\n\u001b[1;32m    250\u001b[0m \u001b[0;34m\u001b[0m\u001b[0m\n",
      "\u001b[0;32m~/Documents/DecisionRulesColumnGen/Classifier.py\u001b[0m in \u001b[0;36mfit\u001b[0;34m(self, initial_rules, verbose, timeLimit, timeLimitPricing, colGen, rule_filter)\u001b[0m\n\u001b[1;32m     83\u001b[0m             \u001b[0;31m#print('Starting Rule Generation')\u001b[0m\u001b[0;34m\u001b[0m\u001b[0;34m\u001b[0m\u001b[0;34m\u001b[0m\u001b[0m\n\u001b[1;32m     84\u001b[0m             \u001b[0mrule_gen\u001b[0m \u001b[0;34m=\u001b[0m \u001b[0mtime\u001b[0m\u001b[0;34m.\u001b[0m\u001b[0mperf_counter\u001b[0m\u001b[0;34m(\u001b[0m\u001b[0;34m)\u001b[0m\u001b[0;34m\u001b[0m\u001b[0;34m\u001b[0m\u001b[0m\n\u001b[0;32m---> 85\u001b[0;31m             \u001b[0mruleFlag\u001b[0m\u001b[0;34m,\u001b[0m \u001b[0mrules\u001b[0m \u001b[0;34m=\u001b[0m \u001b[0mself\u001b[0m\u001b[0;34m.\u001b[0m\u001b[0mruleGen\u001b[0m\u001b[0;34m.\u001b[0m\u001b[0mgenerateRule\u001b[0m\u001b[0;34m(\u001b[0m\u001b[0mresults\u001b[0m\u001b[0;34m)\u001b[0m\u001b[0;34m\u001b[0m\u001b[0;34m\u001b[0m\u001b[0m\n\u001b[0m\u001b[1;32m     86\u001b[0m             \u001b[0;31m#print('Rule generation took %.2f seconds'%(time.perf_counter() - rule_gen))\u001b[0m\u001b[0;34m\u001b[0m\u001b[0;34m\u001b[0m\u001b[0;34m\u001b[0m\u001b[0m\n\u001b[1;32m     87\u001b[0m \u001b[0;34m\u001b[0m\u001b[0m\n",
      "\u001b[0;32m~/Documents/DecisionRulesColumnGen/rule_generator/GeneralRuleGenerator.py\u001b[0m in \u001b[0;36mgenerateRule\u001b[0;34m(self, args)\u001b[0m\n\u001b[1;32m     54\u001b[0m \u001b[0;34m\u001b[0m\u001b[0m\n\u001b[1;32m     55\u001b[0m             \u001b[0;31m#Generate Rules\u001b[0m\u001b[0;34m\u001b[0m\u001b[0;34m\u001b[0m\u001b[0;34m\u001b[0m\u001b[0m\n\u001b[0;32m---> 56\u001b[0;31m             \u001b[0mrules\u001b[0m\u001b[0;34m,\u001b[0m \u001b[0mrcs\u001b[0m \u001b[0;34m=\u001b[0m \u001b[0mself\u001b[0m\u001b[0;34m.\u001b[0m\u001b[0mruleGen\u001b[0m\u001b[0;34m.\u001b[0m\u001b[0mgenerateRule\u001b[0m\u001b[0;34m(\u001b[0m\u001b[0mX\u001b[0m\u001b[0;34m,\u001b[0m \u001b[0mY\u001b[0m\u001b[0;34m,\u001b[0m \u001b[0margs\u001b[0m\u001b[0;34m)\u001b[0m\u001b[0;34m\u001b[0m\u001b[0;34m\u001b[0m\u001b[0m\n\u001b[0m\u001b[1;32m     57\u001b[0m \u001b[0;34m\u001b[0m\u001b[0m\n\u001b[1;32m     58\u001b[0m             \u001b[0;31m#Subsample rules to return\u001b[0m\u001b[0;34m\u001b[0m\u001b[0;34m\u001b[0m\u001b[0;34m\u001b[0m\u001b[0m\n",
      "\u001b[0;32m~/Documents/DecisionRulesColumnGen/rule_generator/generator/HybridGenerator.py\u001b[0m in \u001b[0;36mgenerateRule\u001b[0;34m(self, X, Y, args)\u001b[0m\n\u001b[1;32m     29\u001b[0m         \u001b[0;32mif\u001b[0m \u001b[0mself\u001b[0m\u001b[0;34m.\u001b[0m\u001b[0mrule_count\u001b[0m \u001b[0;34m<\u001b[0m \u001b[0;36m4\u001b[0m \u001b[0;32mand\u001b[0m \u001b[0mself\u001b[0m\u001b[0;34m.\u001b[0m\u001b[0mdoGreedy\u001b[0m\u001b[0;34m:\u001b[0m\u001b[0;34m\u001b[0m\u001b[0;34m\u001b[0m\u001b[0m\n\u001b[1;32m     30\u001b[0m             \u001b[0;31m#print('Hybrid using greedy')\u001b[0m\u001b[0;34m\u001b[0m\u001b[0;34m\u001b[0m\u001b[0;34m\u001b[0m\u001b[0m\n\u001b[0;32m---> 31\u001b[0;31m             \u001b[0mrules\u001b[0m\u001b[0;34m,\u001b[0m \u001b[0mobjs\u001b[0m \u001b[0;34m=\u001b[0m \u001b[0mself\u001b[0m\u001b[0;34m.\u001b[0m\u001b[0mgreedy\u001b[0m\u001b[0;34m.\u001b[0m\u001b[0mgenerateRule\u001b[0m\u001b[0;34m(\u001b[0m\u001b[0mX\u001b[0m\u001b[0;34m,\u001b[0m\u001b[0mY\u001b[0m\u001b[0;34m,\u001b[0m\u001b[0margs\u001b[0m\u001b[0;34m)\u001b[0m\u001b[0;34m\u001b[0m\u001b[0;34m\u001b[0m\u001b[0m\n\u001b[0m\u001b[1;32m     32\u001b[0m \u001b[0;34m\u001b[0m\u001b[0m\n\u001b[1;32m     33\u001b[0m             \u001b[0;32mif\u001b[0m \u001b[0mlen\u001b[0m\u001b[0;34m(\u001b[0m\u001b[0mrules\u001b[0m\u001b[0;34m)\u001b[0m \u001b[0;34m==\u001b[0m \u001b[0;36m0\u001b[0m\u001b[0;34m:\u001b[0m\u001b[0;34m\u001b[0m\u001b[0;34m\u001b[0m\u001b[0m\n",
      "\u001b[0;32m~/Documents/DecisionRulesColumnGen/rule_generator/generator/GreedyRuleGenerator.py\u001b[0m in \u001b[0;36mgenerateRule\u001b[0;34m(self, X, Y, args)\u001b[0m\n\u001b[1;32m     49\u001b[0m \u001b[0;34m\u001b[0m\u001b[0m\n\u001b[1;32m     50\u001b[0m                     \u001b[0;31m#Compute objective\u001b[0m\u001b[0;34m\u001b[0m\u001b[0;34m\u001b[0m\u001b[0;34m\u001b[0m\u001b[0m\n\u001b[0;32m---> 51\u001b[0;31m                     \u001b[0mobj\u001b[0m \u001b[0;34m=\u001b[0m \u001b[0mself\u001b[0m\u001b[0;34m.\u001b[0m\u001b[0mfairnessModule\u001b[0m\u001b[0;34m.\u001b[0m\u001b[0mcomputeObjective\u001b[0m\u001b[0;34m(\u001b[0m\u001b[0mX\u001b[0m\u001b[0;34m,\u001b[0m \u001b[0mY\u001b[0m\u001b[0;34m,\u001b[0m \u001b[0mnewF\u001b[0m\u001b[0;34m,\u001b[0m \u001b[0margs\u001b[0m\u001b[0;34m)\u001b[0m\u001b[0;34m\u001b[0m\u001b[0;34m\u001b[0m\u001b[0m\n\u001b[0m\u001b[1;32m     52\u001b[0m                     \u001b[0mres\u001b[0m\u001b[0;34m.\u001b[0m\u001b[0mappend\u001b[0m\u001b[0;34m(\u001b[0m\u001b[0mobj\u001b[0m\u001b[0;34m)\u001b[0m\u001b[0;34m\u001b[0m\u001b[0;34m\u001b[0m\u001b[0m\n\u001b[1;32m     53\u001b[0m \u001b[0;34m\u001b[0m\u001b[0m\n",
      "\u001b[0;32m~/Documents/DecisionRulesColumnGen/fairness_modules/EqualityOfOpportunity.py\u001b[0m in \u001b[0;36mcomputeObjective\u001b[0;34m(self, X, Y, features, args)\u001b[0m\n\u001b[1;32m     46\u001b[0m         \u001b[0mg\u001b[0m \u001b[0;34m=\u001b[0m \u001b[0mself\u001b[0m\u001b[0;34m.\u001b[0m\u001b[0mgroup\u001b[0m\u001b[0;34m[\u001b[0m\u001b[0margs\u001b[0m\u001b[0;34m[\u001b[0m\u001b[0;34m'row_samples'\u001b[0m\u001b[0;34m]\u001b[0m\u001b[0;34m]\u001b[0m\u001b[0;34m\u001b[0m\u001b[0;34m\u001b[0m\u001b[0m\n\u001b[1;32m     47\u001b[0m \u001b[0;34m\u001b[0m\u001b[0m\n\u001b[0;32m---> 48\u001b[0;31m         \u001b[0;32mreturn\u001b[0m \u001b[0margs\u001b[0m\u001b[0;34m[\u001b[0m\u001b[0;34m'lam'\u001b[0m\u001b[0;34m]\u001b[0m\u001b[0;34m*\u001b[0m\u001b[0;34m(\u001b[0m\u001b[0;36m1\u001b[0m\u001b[0;34m+\u001b[0m\u001b[0mlen\u001b[0m\u001b[0;34m(\u001b[0m\u001b[0mfeatures\u001b[0m\u001b[0;34m)\u001b[0m\u001b[0;34m)\u001b[0m \u001b[0;34m+\u001b[0m \u001b[0mnp\u001b[0m\u001b[0;34m.\u001b[0m\u001b[0mdot\u001b[0m\u001b[0;34m(\u001b[0m\u001b[0mclassPos\u001b[0m\u001b[0;34m[\u001b[0m\u001b[0mY\u001b[0m\u001b[0;34m]\u001b[0m\u001b[0;34m,\u001b[0m\u001b[0mnp\u001b[0m\u001b[0;34m.\u001b[0m\u001b[0marray\u001b[0m\u001b[0;34m(\u001b[0m\u001b[0margs\u001b[0m\u001b[0;34m[\u001b[0m\u001b[0;34m'coeff'\u001b[0m\u001b[0;34m]\u001b[0m\u001b[0;34m)\u001b[0m\u001b[0;34m)\u001b[0m \u001b[0;34m+\u001b[0m \u001b[0msum\u001b[0m\u001b[0;34m(\u001b[0m\u001b[0mclassPos\u001b[0m\u001b[0;34m[\u001b[0m\u001b[0;34m~\u001b[0m\u001b[0mY\u001b[0m\u001b[0;34m]\u001b[0m\u001b[0;34m)\u001b[0m\u001b[0;34m\u001b[0m\u001b[0;34m\u001b[0m\u001b[0m\n\u001b[0m\u001b[1;32m     49\u001b[0m \u001b[0;34m\u001b[0m\u001b[0m\n\u001b[1;32m     50\u001b[0m \u001b[0;34m\u001b[0m\u001b[0m\n",
      "\u001b[0;31mKeyboardInterrupt\u001b[0m: "
     ]
    }
   ],
   "source": [
    "results = []\n",
    "datasets = ['default','adult','compas']\n",
    "protected_features = {'compas': 'race', \n",
    "                      'adult': 'gender',\n",
    "                      'default': 'X2'\n",
    "                     }\n",
    "fair_met = 'EqOfOp'\n",
    "test_params = {\n",
    "            'price_limit': 45,\n",
    "            'train_limit': 300,\n",
    "            'fixed_model_params': {\n",
    "                'ruleGenerator': 'Hybrid',\n",
    "                'masterSolver':'barrierCrossover',\n",
    "                'numRulesToReturn': 100,\n",
    "                'fairness_module': 'EqOfOp'\n",
    "            },\n",
    "        }\n",
    "\n",
    "eps_range = {'adult': [0.01, 0.07,0.15, 1],\n",
    "    'compas': [0.01, 0.2, 1],\n",
    "     'default': [0.01, 0.05,0.1, 1]\n",
    "    }\n",
    "C_range = {'adult': [5, 15, 20, 30, 40],\n",
    "    'compas': [5, 10, 15, 20, 30],\n",
    "     'default': [5, 10, 15, 20, 30]\n",
    "    }\n",
    "\n",
    "for dataset in datasets:\n",
    "    print('**** DATASET %s ******'%dataset)\n",
    "    group_var = protected_features[dataset]\n",
    "    name = dataset+'_'+str(fair_met)\n",
    "\n",
    "    for i in range(10):\n",
    "        print('***** FOLD %d ******'%i)\n",
    "        train  = pd.read_csv('data_split/bin_'+dataset+'_train_%d.csv'%i)\n",
    "        test = pd.read_csv('data_split/bin_'+dataset+'_test_%d.csv'%i)\n",
    "        \n",
    "        saved_rules = None\n",
    "        for eps in eps_range[dataset]:\n",
    "            for C in C_range[dataset]:\n",
    "                res = TestResults(name+' '+'(%d,%d)'%(eps, C)+'-'+str(i))\n",
    "                res.res['eps'] = eps\n",
    "                res.res['C'] = C\n",
    "\n",
    "                test_params = test_params.copy()\n",
    "                test_params['fixed_model_params']['epsilon'] = eps\n",
    "                test_params['fixed_model_params']['ruleComplexity'] = C\n",
    "\n",
    "                res, classif = runSingleTest(train.drop('Y',axis=1).to_numpy(), train['Y'].to_numpy(), \n",
    "                                             train[group_var].to_numpy(), \n",
    "                                             test.drop('Y',axis=1).to_numpy(), test['Y'].to_numpy(), \n",
    "                                             test[group_var].to_numpy(), \n",
    "                                             test_params, \n",
    "                                             saved_rules, res, colGen = True, rule_filter = False)\n",
    "                \n",
    "                rules = classif.ruleMod.rules\n",
    "                saved_rules = updateRuleSet(saved_rules,rules)\n",
    "        np.save('rules/'+name+'_fold_'+str(i)+'_rules.txt', saved_rules)"
   ]
  },
  {
   "cell_type": "code",
   "execution_count": 4,
   "metadata": {},
   "outputs": [
    {
     "name": "stdout",
     "output_type": "stream",
     "text": [
      "**** DATASET compas ******\n",
      "***** FOLD 0 ******\n",
      "Using Greedy\n",
      "Using barrier with default crossover\n",
      "Changed value of parameter Method to 2\n",
      "   Prev: -1  Min: -1  Max: 5  Default: -1\n"
     ]
    },
    {
     "ename": "IndexError",
     "evalue": "boolean index did not match indexed array along dimension 0; dimension is 929 but corresponding boolean dimension is 2231",
     "output_type": "error",
     "traceback": [
      "\u001b[0;31m---------------------------------------------------------------------------\u001b[0m",
      "\u001b[0;31mIndexError\u001b[0m                                Traceback (most recent call last)",
      "\u001b[0;32m<ipython-input-4-e5582893f7ea>\u001b[0m in \u001b[0;36m<module>\u001b[0;34m\u001b[0m\n\u001b[1;32m     52\u001b[0m                                              \u001b[0mtest\u001b[0m\u001b[0;34m[\u001b[0m\u001b[0mgroup_var\u001b[0m\u001b[0;34m]\u001b[0m\u001b[0;34m.\u001b[0m\u001b[0mto_numpy\u001b[0m\u001b[0;34m(\u001b[0m\u001b[0;34m)\u001b[0m\u001b[0;34m,\u001b[0m\u001b[0;34m\u001b[0m\u001b[0;34m\u001b[0m\u001b[0m\n\u001b[1;32m     53\u001b[0m                                              \u001b[0mtest_params\u001b[0m\u001b[0;34m,\u001b[0m\u001b[0;34m\u001b[0m\u001b[0;34m\u001b[0m\u001b[0m\n\u001b[0;32m---> 54\u001b[0;31m                                              saved_rules, res, colGen = True, rule_filter = False)\n\u001b[0m\u001b[1;32m     55\u001b[0m \u001b[0;34m\u001b[0m\u001b[0m\n\u001b[1;32m     56\u001b[0m                 \u001b[0mrules\u001b[0m \u001b[0;34m=\u001b[0m \u001b[0mclassif\u001b[0m\u001b[0;34m.\u001b[0m\u001b[0mruleMod\u001b[0m\u001b[0;34m.\u001b[0m\u001b[0mrules\u001b[0m\u001b[0;34m\u001b[0m\u001b[0;34m\u001b[0m\u001b[0m\n",
      "\u001b[0;32m~/Documents/DecisionRulesColumnGen/test_helpers.py\u001b[0m in \u001b[0;36mrunSingleTest\u001b[0;34m(X_tr, Y_tr, g_tr, X_t, Y_t, g_t, test_params, rules, res, colGen, rule_filter)\u001b[0m\n\u001b[1;32m    246\u001b[0m                 \u001b[0mtimeLimitPricing\u001b[0m \u001b[0;34m=\u001b[0m \u001b[0mtest_params\u001b[0m\u001b[0;34m[\u001b[0m\u001b[0;34m'price_limit'\u001b[0m\u001b[0;34m]\u001b[0m\u001b[0;34m,\u001b[0m\u001b[0;34m\u001b[0m\u001b[0;34m\u001b[0m\u001b[0m\n\u001b[1;32m    247\u001b[0m                 \u001b[0mcolGen\u001b[0m \u001b[0;34m=\u001b[0m \u001b[0mcolGen\u001b[0m\u001b[0;34m,\u001b[0m\u001b[0;34m\u001b[0m\u001b[0;34m\u001b[0m\u001b[0m\n\u001b[0;32m--> 248\u001b[0;31m                 rule_filter = rule_filter)\n\u001b[0m\u001b[1;32m    249\u001b[0m     \u001b[0mtime_to_exec\u001b[0m \u001b[0;34m=\u001b[0m \u001b[0mtime\u001b[0m\u001b[0;34m.\u001b[0m\u001b[0mperf_counter\u001b[0m\u001b[0;34m(\u001b[0m\u001b[0;34m)\u001b[0m \u001b[0;34m-\u001b[0m \u001b[0mstart_time\u001b[0m\u001b[0;34m\u001b[0m\u001b[0;34m\u001b[0m\u001b[0m\n\u001b[1;32m    250\u001b[0m \u001b[0;34m\u001b[0m\u001b[0m\n",
      "\u001b[0;32m~/Documents/DecisionRulesColumnGen/Classifier.py\u001b[0m in \u001b[0;36mfit\u001b[0;34m(self, initial_rules, verbose, timeLimit, timeLimitPricing, colGen, rule_filter)\u001b[0m\n\u001b[1;32m     83\u001b[0m             \u001b[0;31m#print('Starting Rule Generation')\u001b[0m\u001b[0;34m\u001b[0m\u001b[0;34m\u001b[0m\u001b[0;34m\u001b[0m\u001b[0m\n\u001b[1;32m     84\u001b[0m             \u001b[0mrule_gen\u001b[0m \u001b[0;34m=\u001b[0m \u001b[0mtime\u001b[0m\u001b[0;34m.\u001b[0m\u001b[0mperf_counter\u001b[0m\u001b[0;34m(\u001b[0m\u001b[0;34m)\u001b[0m\u001b[0;34m\u001b[0m\u001b[0;34m\u001b[0m\u001b[0m\n\u001b[0;32m---> 85\u001b[0;31m             \u001b[0mruleFlag\u001b[0m\u001b[0;34m,\u001b[0m \u001b[0mrules\u001b[0m \u001b[0;34m=\u001b[0m \u001b[0mself\u001b[0m\u001b[0;34m.\u001b[0m\u001b[0mruleGen\u001b[0m\u001b[0;34m.\u001b[0m\u001b[0mgenerateRule\u001b[0m\u001b[0;34m(\u001b[0m\u001b[0mresults\u001b[0m\u001b[0;34m)\u001b[0m\u001b[0;34m\u001b[0m\u001b[0;34m\u001b[0m\u001b[0m\n\u001b[0m\u001b[1;32m     86\u001b[0m             \u001b[0;31m#print('Rule generation took %.2f seconds'%(time.perf_counter() - rule_gen))\u001b[0m\u001b[0;34m\u001b[0m\u001b[0;34m\u001b[0m\u001b[0;34m\u001b[0m\u001b[0m\n\u001b[1;32m     87\u001b[0m \u001b[0;34m\u001b[0m\u001b[0m\n",
      "\u001b[0;32m~/Documents/DecisionRulesColumnGen/rule_generator/GeneralRuleGenerator.py\u001b[0m in \u001b[0;36mgenerateRule\u001b[0;34m(self, args)\u001b[0m\n\u001b[1;32m     50\u001b[0m             X, Y, args['coeff'], args['row_samples'], col_samples = self.sampler.getSample(self.ruleMod.X, \n\u001b[1;32m     51\u001b[0m                                                                                                        \u001b[0mself\u001b[0m\u001b[0;34m.\u001b[0m\u001b[0mruleMod\u001b[0m\u001b[0;34m.\u001b[0m\u001b[0mY\u001b[0m\u001b[0;34m,\u001b[0m\u001b[0;34m\u001b[0m\u001b[0;34m\u001b[0m\u001b[0m\n\u001b[0;32m---> 52\u001b[0;31m                                                                                                        args['coeff'])\n\u001b[0m\u001b[1;32m     53\u001b[0m             \u001b[0msampling\u001b[0m \u001b[0;34m=\u001b[0m \u001b[0;32mnot\u001b[0m \u001b[0;34m(\u001b[0m\u001b[0mlen\u001b[0m\u001b[0;34m(\u001b[0m\u001b[0mY\u001b[0m\u001b[0;34m)\u001b[0m \u001b[0;34m==\u001b[0m \u001b[0mlen\u001b[0m\u001b[0;34m(\u001b[0m\u001b[0mself\u001b[0m\u001b[0;34m.\u001b[0m\u001b[0mruleMod\u001b[0m\u001b[0;34m.\u001b[0m\u001b[0mY\u001b[0m\u001b[0;34m)\u001b[0m\u001b[0;34m)\u001b[0m\u001b[0;34m\u001b[0m\u001b[0;34m\u001b[0m\u001b[0m\n\u001b[1;32m     54\u001b[0m \u001b[0;34m\u001b[0m\u001b[0m\n",
      "\u001b[0;32m~/Documents/DecisionRulesColumnGen/rule_generator/data_sampler/RandomSampler.py\u001b[0m in \u001b[0;36mgetSample\u001b[0;34m(self, X, Y, coeff, args)\u001b[0m\n\u001b[1;32m     24\u001b[0m             \u001b[0mX_sample\u001b[0m \u001b[0;34m=\u001b[0m \u001b[0mX_sample\u001b[0m\u001b[0;34m[\u001b[0m\u001b[0mrow_samples\u001b[0m\u001b[0;34m,\u001b[0m \u001b[0;34m:\u001b[0m\u001b[0;34m]\u001b[0m\u001b[0;34m\u001b[0m\u001b[0;34m\u001b[0m\u001b[0m\n\u001b[1;32m     25\u001b[0m             \u001b[0mY_sample\u001b[0m \u001b[0;34m=\u001b[0m \u001b[0mY_sample\u001b[0m\u001b[0;34m[\u001b[0m\u001b[0mrow_samples\u001b[0m\u001b[0;34m]\u001b[0m\u001b[0;34m\u001b[0m\u001b[0;34m\u001b[0m\u001b[0m\n\u001b[0;32m---> 26\u001b[0;31m             \u001b[0mcoeff_sample\u001b[0m \u001b[0;34m=\u001b[0m \u001b[0mcoeff_sample\u001b[0m\u001b[0;34m[\u001b[0m\u001b[0mrow_samples\u001b[0m\u001b[0;34m[\u001b[0m\u001b[0mY\u001b[0m\u001b[0;34m]\u001b[0m\u001b[0;34m]\u001b[0m\u001b[0;34m\u001b[0m\u001b[0;34m\u001b[0m\u001b[0m\n\u001b[0m\u001b[1;32m     27\u001b[0m         \u001b[0;32mif\u001b[0m \u001b[0mself\u001b[0m\u001b[0;34m.\u001b[0m\u001b[0mcolumnSample\u001b[0m\u001b[0;34m:\u001b[0m\u001b[0;34m\u001b[0m\u001b[0;34m\u001b[0m\u001b[0m\n\u001b[1;32m     28\u001b[0m             \u001b[0mcol_perc\u001b[0m \u001b[0;34m=\u001b[0m \u001b[0mmin\u001b[0m\u001b[0;34m(\u001b[0m\u001b[0mself\u001b[0m\u001b[0;34m.\u001b[0m\u001b[0msamplePercCol\u001b[0m\u001b[0;34m/\u001b[0m\u001b[0mnp\u001b[0m\u001b[0;34m.\u001b[0m\u001b[0mmean\u001b[0m\u001b[0;34m(\u001b[0m\u001b[0mnp\u001b[0m\u001b[0;34m.\u001b[0m\u001b[0msum\u001b[0m\u001b[0;34m(\u001b[0m\u001b[0mX_sample\u001b[0m \u001b[0;34m>\u001b[0m \u001b[0;36m0\u001b[0m\u001b[0;34m,\u001b[0m \u001b[0maxis\u001b[0m\u001b[0;34m=\u001b[0m\u001b[0;36m0\u001b[0m\u001b[0;34m)\u001b[0m\u001b[0;34m)\u001b[0m\u001b[0;34m/\u001b[0m\u001b[0mX_shape\u001b[0m\u001b[0;34m.\u001b[0m\u001b[0mshape\u001b[0m\u001b[0;34m[\u001b[0m\u001b[0;36m1\u001b[0m\u001b[0;34m]\u001b[0m\u001b[0;34m,\u001b[0m\u001b[0;36m1\u001b[0m\u001b[0;34m)\u001b[0m\u001b[0;34m\u001b[0m\u001b[0;34m\u001b[0m\u001b[0m\n",
      "\u001b[0;31mIndexError\u001b[0m: boolean index did not match indexed array along dimension 0; dimension is 929 but corresponding boolean dimension is 2231"
     ]
    }
   ],
   "source": [
    "results = []\n",
    "datasets = ['compas','default','adult']\n",
    "protected_features = {'compas': 'race', \n",
    "                      'adult': 'gender',\n",
    "                      'default': 'X2'\n",
    "                     }\n",
    "fair_met = 'HammingEqOdd'\n",
    "test_params = {\n",
    "            'price_limit': 45,\n",
    "            'train_limit': 300,\n",
    "            'fixed_model_params': {\n",
    "                'ruleGenerator': 'Hybrid',\n",
    "                'masterSolver':'barrierCrossover',\n",
    "                'numRulesToReturn': 100,\n",
    "                'fairness_module': 'HammingEqOdd'\n",
    "            },\n",
    "        }\n",
    "\n",
    "eps_range = {'adult': [0.01, 0.7,0.15, 1],\n",
    "    'compas': [1, 0.01, 0.2, ],\n",
    "     'default': [0.01, 0.05,0.1, 1]\n",
    "    }\n",
    "C_range = {'adult': [5, 15, 20, 30, 40],\n",
    "    'compas': [30, 5, 10, 15, 20],\n",
    "     'default': [5, 10, 15, 20, 30]\n",
    "    }\n",
    "\n",
    "for dataset in datasets:\n",
    "    print('**** DATASET %s ******'%dataset)\n",
    "    group_var = protected_features[dataset]\n",
    "    name = dataset+'_'+str(fair_met)\n",
    "\n",
    "    for i in range(10):\n",
    "        print('***** FOLD %d ******'%i)\n",
    "        train  = pd.read_csv('data_split/bin_'+dataset+'_train_%d.csv'%i)\n",
    "        test = pd.read_csv('data_split/bin_'+dataset+'_test_%d.csv'%i)\n",
    "        \n",
    "        saved_rules = None\n",
    "        for eps in eps_range[dataset]:\n",
    "            for C in C_range[dataset]:\n",
    "                res = TestResults(name+' '+'(%d,%d)'%(eps, C)+'-'+str(i))\n",
    "                res.res['eps'] = eps\n",
    "                res.res['C'] = C\n",
    "\n",
    "                test_params = test_params.copy()\n",
    "                test_params['fixed_model_params']['epsilon'] = eps\n",
    "                test_params['fixed_model_params']['ruleComplexity'] = C\n",
    "\n",
    "                res, classif = runSingleTest(train.drop('Y',axis=1).to_numpy(), train['Y'].to_numpy(), \n",
    "                                             train[group_var].to_numpy(), \n",
    "                                             test.drop('Y',axis=1).to_numpy(), test['Y'].to_numpy(), \n",
    "                                             test[group_var].to_numpy(), \n",
    "                                             test_params, \n",
    "                                             saved_rules, res, colGen = True, rule_filter = False)\n",
    "                \n",
    "                rules = classif.ruleMod.rules\n",
    "                saved_rules = updateRuleSet(saved_rules,rules)\n",
    "        np.save('rules/'+name+'_fold_'+str(i)+'_rules.txt', saved_rules)"
   ]
  }
 ],
 "metadata": {
  "kernelspec": {
   "display_name": "Python 3",
   "language": "python",
   "name": "python3"
  },
  "language_info": {
   "codemirror_mode": {
    "name": "ipython",
    "version": 3
   },
   "file_extension": ".py",
   "mimetype": "text/x-python",
   "name": "python",
   "nbconvert_exporter": "python",
   "pygments_lexer": "ipython3",
   "version": "3.7.6"
  }
 },
 "nbformat": 4,
 "nbformat_minor": 4
}
