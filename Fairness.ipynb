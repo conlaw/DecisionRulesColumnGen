{
 "cells": [
  {
   "cell_type": "code",
   "execution_count": 1,
   "metadata": {},
   "outputs": [],
   "source": [
    "from test_helpers import run_test"
   ]
  },
  {
   "cell_type": "code",
   "execution_count": null,
   "metadata": {},
   "outputs": [
    {
     "name": "stdout",
     "output_type": "stream",
     "text": [
      "{'data': 'data/german.csv', 'price_limit': 10, 'train_limit': 30, 'groupCol': 'gender', 'fixed_model_params': {'ruleGenerator': 'DNF_IP', 'numRulesToReturn': 100, 'epsilon': 1}, 'test_name': 'heart_greedy', 'num_splits': 10, 'num_hp_splits': 3, 'hyper_paramaters': {'ruleComplexity': [5, 10, 20, 50, 100]}}\n",
      "5 parameters provided for hyper-parameter ruleComplexity\n",
      "Reading in data\n",
      "Index(['X1_A11', 'X1_A12', 'X1_A13', 'X1_A14', 'X1_A11', 'X1_A12', 'X1_A13',\n",
      "       'X1_A14', 'X2_9.0*', 'X2_12.0*',\n",
      "       ...\n",
      "       'X19_A191', 'X19_A192', 'X19_A191', 'X19_A192', 'X20_A201', 'X20_A202',\n",
      "       'X20_A201', 'X20_A202', 'gender', 'Y'],\n",
      "      dtype='object', length=184) gender\n",
      "Running split 0\n",
      "Testing ruleComplexity value 5\n",
      "Split 0\n",
      "Using DNF_IP\n",
      "Using license file /Users/connorlawless/gurobi.lic\n",
      "Academic license - for non-commercial use only\n",
      "Time limit for column generation exceeded. Solving MIP.\n",
      "Results: (Acc) 0.722 (Time) 35 (Complex) 3 (Cols Gen) 26  (Num Iter) 4\n",
      "Split 1\n",
      "Using DNF_IP\n",
      "Time limit for column generation exceeded. Solving MIP.\n",
      "Results: (Acc) 0.694 (Time) 32 (Complex) 3 (Cols Gen) 42  (Num Iter) 3\n",
      "Split 2\n",
      "Using DNF_IP\n",
      "Time limit for column generation exceeded. Solving MIP.\n",
      "Results: (Acc) 0.711 (Time) 32 (Complex) 3 (Cols Gen) 57  (Num Iter) 3\n",
      "Split 3\n",
      "Using DNF_IP\n",
      "Time limit for column generation exceeded. Solving MIP.\n",
      "Results: (Acc) 0.733 (Time) 32 (Complex) 3 (Cols Gen) 73  (Num Iter) 3\n",
      "Split 4\n",
      "Using DNF_IP\n"
     ]
    }
   ],
   "source": [
    "for eps in [1, 0.2, 0.1, 0.05, 0.01]:\n",
    "    test_params = {\n",
    "        'data': 'data/german.csv',\n",
    "        'price_limit': 10,\n",
    "        'train_limit': 30,\n",
    "        'groupCol': 'gender',\n",
    "        'fixed_model_params': {\n",
    "            'ruleGenerator': 'DNF_IP',\n",
    "            'numRulesToReturn': 100,\n",
    "            'epsilon': eps,\n",
    "        },\n",
    "        'test_name': 'heart_greedy',\n",
    "        'num_splits': 10,\n",
    "        'num_hp_splits': 3,\n",
    "        'hyper_paramaters': {\n",
    "            'ruleComplexity': [5,10,20,50,100]\n",
    "        }\n",
    "    }\n",
    "    results = run_test(test_params)\n",
    "    r = json.dumps(results)\n",
    "    with open(\"results/German_DNF-\"+str(eps)+\".txt\", \"w\") as text_file:\n",
    "        text_file.write(r)\n",
    "    \n",
    "    !git add results/German_DNF-{str(eps)}.txt\n",
    "    !git commit -m 'pushing results'\n",
    "    !git push"
   ]
  }
 ],
 "metadata": {
  "kernelspec": {
   "display_name": "Python 3",
   "language": "python",
   "name": "python3"
  },
  "language_info": {
   "codemirror_mode": {
    "name": "ipython",
    "version": 3
   },
   "file_extension": ".py",
   "mimetype": "text/x-python",
   "name": "python",
   "nbconvert_exporter": "python",
   "pygments_lexer": "ipython3",
   "version": "3.7.6"
  }
 },
 "nbformat": 4,
 "nbformat_minor": 4
}
