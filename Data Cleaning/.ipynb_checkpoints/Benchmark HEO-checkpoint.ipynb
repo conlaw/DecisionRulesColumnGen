{
 "cells": [
  {
   "cell_type": "code",
   "execution_count": 3,
   "metadata": {},
   "outputs": [],
   "source": [
    "import pandas as pd\n",
    "import numpy as np"
   ]
  },
  {
   "cell_type": "markdown",
   "metadata": {},
   "source": [
    "## Arrythmia"
   ]
  },
  {
   "cell_type": "code",
   "execution_count": 206,
   "metadata": {
    "scrolled": true
   },
   "outputs": [
    {
     "data": {
      "text/html": [
       "<div>\n",
       "<style scoped>\n",
       "    .dataframe tbody tr th:only-of-type {\n",
       "        vertical-align: middle;\n",
       "    }\n",
       "\n",
       "    .dataframe tbody tr th {\n",
       "        vertical-align: top;\n",
       "    }\n",
       "\n",
       "    .dataframe thead th {\n",
       "        text-align: right;\n",
       "    }\n",
       "</style>\n",
       "<table border=\"1\" class=\"dataframe\">\n",
       "  <thead>\n",
       "    <tr style=\"text-align: right;\">\n",
       "      <th></th>\n",
       "      <th>0</th>\n",
       "      <th>gender</th>\n",
       "      <th>2</th>\n",
       "      <th>3</th>\n",
       "      <th>4</th>\n",
       "      <th>5</th>\n",
       "      <th>6</th>\n",
       "      <th>7</th>\n",
       "      <th>8</th>\n",
       "      <th>9</th>\n",
       "      <th>...</th>\n",
       "      <th>270</th>\n",
       "      <th>271</th>\n",
       "      <th>272</th>\n",
       "      <th>273</th>\n",
       "      <th>274</th>\n",
       "      <th>275</th>\n",
       "      <th>276</th>\n",
       "      <th>277</th>\n",
       "      <th>278</th>\n",
       "      <th>279</th>\n",
       "    </tr>\n",
       "  </thead>\n",
       "  <tbody>\n",
       "    <tr>\n",
       "      <th>0</th>\n",
       "      <td>75</td>\n",
       "      <td>False</td>\n",
       "      <td>190</td>\n",
       "      <td>80</td>\n",
       "      <td>91</td>\n",
       "      <td>193</td>\n",
       "      <td>371</td>\n",
       "      <td>174</td>\n",
       "      <td>121</td>\n",
       "      <td>-16</td>\n",
       "      <td>...</td>\n",
       "      <td>0.0</td>\n",
       "      <td>9.0</td>\n",
       "      <td>-0.9</td>\n",
       "      <td>0.0</td>\n",
       "      <td>0.0</td>\n",
       "      <td>0.9</td>\n",
       "      <td>2.9</td>\n",
       "      <td>23.3</td>\n",
       "      <td>49.4</td>\n",
       "      <td>True</td>\n",
       "    </tr>\n",
       "    <tr>\n",
       "      <th>1</th>\n",
       "      <td>56</td>\n",
       "      <td>True</td>\n",
       "      <td>165</td>\n",
       "      <td>64</td>\n",
       "      <td>81</td>\n",
       "      <td>174</td>\n",
       "      <td>401</td>\n",
       "      <td>149</td>\n",
       "      <td>39</td>\n",
       "      <td>25</td>\n",
       "      <td>...</td>\n",
       "      <td>0.0</td>\n",
       "      <td>8.5</td>\n",
       "      <td>0.0</td>\n",
       "      <td>0.0</td>\n",
       "      <td>0.0</td>\n",
       "      <td>0.2</td>\n",
       "      <td>2.1</td>\n",
       "      <td>20.4</td>\n",
       "      <td>38.8</td>\n",
       "      <td>True</td>\n",
       "    </tr>\n",
       "    <tr>\n",
       "      <th>2</th>\n",
       "      <td>54</td>\n",
       "      <td>False</td>\n",
       "      <td>172</td>\n",
       "      <td>95</td>\n",
       "      <td>138</td>\n",
       "      <td>163</td>\n",
       "      <td>386</td>\n",
       "      <td>185</td>\n",
       "      <td>102</td>\n",
       "      <td>96</td>\n",
       "      <td>...</td>\n",
       "      <td>0.0</td>\n",
       "      <td>9.5</td>\n",
       "      <td>-2.4</td>\n",
       "      <td>0.0</td>\n",
       "      <td>0.0</td>\n",
       "      <td>0.3</td>\n",
       "      <td>3.4</td>\n",
       "      <td>12.3</td>\n",
       "      <td>49.0</td>\n",
       "      <td>True</td>\n",
       "    </tr>\n",
       "    <tr>\n",
       "      <th>3</th>\n",
       "      <td>55</td>\n",
       "      <td>False</td>\n",
       "      <td>175</td>\n",
       "      <td>94</td>\n",
       "      <td>100</td>\n",
       "      <td>202</td>\n",
       "      <td>380</td>\n",
       "      <td>179</td>\n",
       "      <td>143</td>\n",
       "      <td>28</td>\n",
       "      <td>...</td>\n",
       "      <td>0.0</td>\n",
       "      <td>12.2</td>\n",
       "      <td>-2.2</td>\n",
       "      <td>0.0</td>\n",
       "      <td>0.0</td>\n",
       "      <td>0.4</td>\n",
       "      <td>2.6</td>\n",
       "      <td>34.6</td>\n",
       "      <td>61.6</td>\n",
       "      <td>False</td>\n",
       "    </tr>\n",
       "    <tr>\n",
       "      <th>4</th>\n",
       "      <td>75</td>\n",
       "      <td>False</td>\n",
       "      <td>190</td>\n",
       "      <td>80</td>\n",
       "      <td>88</td>\n",
       "      <td>181</td>\n",
       "      <td>360</td>\n",
       "      <td>177</td>\n",
       "      <td>103</td>\n",
       "      <td>-16</td>\n",
       "      <td>...</td>\n",
       "      <td>0.0</td>\n",
       "      <td>13.1</td>\n",
       "      <td>-3.6</td>\n",
       "      <td>0.0</td>\n",
       "      <td>0.0</td>\n",
       "      <td>-0.1</td>\n",
       "      <td>3.9</td>\n",
       "      <td>25.4</td>\n",
       "      <td>62.8</td>\n",
       "      <td>True</td>\n",
       "    </tr>\n",
       "  </tbody>\n",
       "</table>\n",
       "<p>5 rows × 280 columns</p>\n",
       "</div>"
      ],
      "text/plain": [
       "    0  gender    2   3    4    5    6    7    8   9  ...  270   271  272  273  \\\n",
       "0  75   False  190  80   91  193  371  174  121 -16  ...  0.0   9.0 -0.9  0.0   \n",
       "1  56    True  165  64   81  174  401  149   39  25  ...  0.0   8.5  0.0  0.0   \n",
       "2  54   False  172  95  138  163  386  185  102  96  ...  0.0   9.5 -2.4  0.0   \n",
       "3  55   False  175  94  100  202  380  179  143  28  ...  0.0  12.2 -2.2  0.0   \n",
       "4  75   False  190  80   88  181  360  177  103 -16  ...  0.0  13.1 -3.6  0.0   \n",
       "\n",
       "   274  275  276   277   278    279  \n",
       "0  0.0  0.9  2.9  23.3  49.4   True  \n",
       "1  0.0  0.2  2.1  20.4  38.8   True  \n",
       "2  0.0  0.3  3.4  12.3  49.0   True  \n",
       "3  0.0  0.4  2.6  34.6  61.6  False  \n",
       "4  0.0 -0.1  3.9  25.4  62.8   True  \n",
       "\n",
       "[5 rows x 280 columns]"
      ]
     },
     "execution_count": 206,
     "metadata": {},
     "output_type": "execute_result"
    }
   ],
   "source": [
    "arrythmia = pd.read_csv('arrhythmia.data', header = None)\n",
    "arrythmia[1] = arrythmia[1].astype(np.bool)\n",
    "arrythmia[279] = ~(arrythmia[279] == 1)\n",
    "arrythmia = (arrythmia.rename({1: 'gender'}, axis = 1)\n",
    "             .replace({'?': None})\n",
    "             .astype('float64')\n",
    "             .astype({'gender':'bool', 279: 'bool'})\n",
    "             .apply(lambda x: x.fillna(x.mean())))\n",
    "arrythmia.to_csv('../data/arrythmia.csv', index = False)"
   ]
  },
  {
   "cell_type": "markdown",
   "metadata": {},
   "source": [
    "## Compas"
   ]
  },
  {
   "cell_type": "code",
   "execution_count": 413,
   "metadata": {},
   "outputs": [],
   "source": [
    "race_cols = ['African_American','Hispanic','Asian','Hispanic','Native_American','Other']\n",
    "\n",
    "compas = (pd.read_csv('compass.csv')\n",
    " .assign(Caucasian = lambda df: df[race_cols].sum(axis=1) == 0,\n",
    "        Y= lambda df: df.Two_yr_Recidivism)\n",
    " .drop('Two_yr_Recidivism', axis = 1)\n",
    " .query('Caucasian or African_American')\n",
    " .drop(race_cols, axis = 1)\n",
    " .rename({'Female':'gender', 'Caucasian': 'race'}, axis=1)\n",
    " .astype({'Y': 'bool'}))\n",
    "compas.to_csv('../data/compas.csv', index=False)"
   ]
  },
  {
   "cell_type": "markdown",
   "metadata": {},
   "source": [
    "## German"
   ]
  },
  {
   "cell_type": "code",
   "execution_count": 283,
   "metadata": {},
   "outputs": [],
   "source": [
    "german = (pd.read_csv('german.data', header = None, delimiter = ' ')\n",
    "          .replace(['A91','A93','A94'],True)\n",
    "          .replace(['A92','A95'], False)\n",
    "          .rename({8:'gender'},axis=1)\n",
    "          .assign(foreign = lambda df: df[19] == 'A201',\n",
    "                 Y = lambda df: df[20]-1)\n",
    "          .drop([19,20], axis=1)\n",
    "          .astype({'Y':'bool'})\n",
    "          .to_csv('../data/german.csv', index = False))"
   ]
  },
  {
   "cell_type": "markdown",
   "metadata": {},
   "source": [
    "## Drug"
   ]
  },
  {
   "cell_type": "code",
   "execution_count": 286,
   "metadata": {},
   "outputs": [],
   "source": [
    "drug = pd.read_csv('drug_consumption.data', header = None)\n",
    "drug['race'] = drug[5] == -0.31685\n",
    "drug['Y'] = drug.loc[:,29] == 'CL0'\n",
    "#drug.loc[:,31-18::]\n",
    "drug = drug.drop(np.arange(31-18,32), axis = 1)\n",
    "drug = drug.drop([0,5], axis = 1)\n",
    "drug.to_csv('../data/drug.csv', index = False)"
   ]
  },
  {
   "cell_type": "markdown",
   "metadata": {},
   "source": [
    "## Default"
   ]
  },
  {
   "cell_type": "code",
   "execution_count": null,
   "metadata": {},
   "outputs": [],
   "source": [
    "default = (pd.read_excel('default of credit card clients.xls')\n",
    "           .drop(0)\n",
    "           .drop('Unnamed: 0', axis=1)\n",
    "           .astype('float64')\n",
    "           .assign(X2= lambda df: df.X2 == 1)\n",
    "           .astype({'Y': 'bool', \n",
    "                   'X2':'bool'}))\n",
    "\n",
    "\n",
    "default.to_csv('../data/default.csv', index = False)"
   ]
  },
  {
   "cell_type": "markdown",
   "metadata": {},
   "source": [
    "## CART Benchmarking"
   ]
  },
  {
   "cell_type": "code",
   "execution_count": 337,
   "metadata": {
    "scrolled": true
   },
   "outputs": [
    {
     "name": "stdout",
     "output_type": "stream",
     "text": [
      "Best accuracy:  0.7729342564448948  with fairness 0.0\n",
      "Best Fairness:  0.7729342564448948  with fairness 0.0\n"
     ]
    }
   ],
   "source": [
    "from sklearn import tree\n",
    "import pandas as pd\n",
    "from sklearn.model_selection import cross_val_score\n",
    "\n",
    "X = drug.drop('Y', axis = 1).to_numpy()\n",
    "Y = drug['Y'].to_numpy()\n",
    "g = drug['race'].to_numpy()\n",
    "\n",
    "min_samples = [50,100,150,200,250,400,450,500,600,700,1000]\n",
    "acc = []\n",
    "acc_sd = []\n",
    "fair = []\n",
    "fair_sd = []\n",
    "\n",
    "for sam in min_samples:\n",
    "    cart = tree.DecisionTreeClassifier(min_samples_leaf = sam)\n",
    "    scores = fairCrossValScore(cart, X, Y, g, cv=10)\n",
    "    acc.append(scores[0].mean())\n",
    "    acc_sd.append(scores[0].std())\n",
    "    fair.append(scores[1].mean())\n",
    "    fair_sd.append(scores[1].std())\n",
    "\n",
    "\n",
    "best_acc = np.argmax(acc)\n",
    "best_fair = np.argmax(acc)\n",
    "print('Best accuracy: ', acc[best_acc], ' with fairness', fair[best_acc])\n",
    "print('Best Fairness: ', acc[best_fair], ' with fairness', fair[best_fair])"
   ]
  },
  {
   "cell_type": "code",
   "execution_count": 327,
   "metadata": {},
   "outputs": [
    {
     "data": {
      "text/html": [
       "<div>\n",
       "<style scoped>\n",
       "    .dataframe tbody tr th:only-of-type {\n",
       "        vertical-align: middle;\n",
       "    }\n",
       "\n",
       "    .dataframe tbody tr th {\n",
       "        vertical-align: top;\n",
       "    }\n",
       "\n",
       "    .dataframe thead th {\n",
       "        text-align: right;\n",
       "    }\n",
       "</style>\n",
       "<table border=\"1\" class=\"dataframe\">\n",
       "  <thead>\n",
       "    <tr style=\"text-align: right;\">\n",
       "      <th></th>\n",
       "      <th>0</th>\n",
       "      <th>gender</th>\n",
       "      <th>2</th>\n",
       "      <th>3</th>\n",
       "      <th>4</th>\n",
       "      <th>5</th>\n",
       "      <th>6</th>\n",
       "      <th>7</th>\n",
       "      <th>8</th>\n",
       "      <th>9</th>\n",
       "      <th>...</th>\n",
       "      <th>270</th>\n",
       "      <th>271</th>\n",
       "      <th>272</th>\n",
       "      <th>273</th>\n",
       "      <th>274</th>\n",
       "      <th>275</th>\n",
       "      <th>276</th>\n",
       "      <th>277</th>\n",
       "      <th>278</th>\n",
       "      <th>279</th>\n",
       "    </tr>\n",
       "  </thead>\n",
       "  <tbody>\n",
       "    <tr>\n",
       "      <th>0</th>\n",
       "      <td>75.0</td>\n",
       "      <td>False</td>\n",
       "      <td>190.0</td>\n",
       "      <td>80.0</td>\n",
       "      <td>91.0</td>\n",
       "      <td>193.0</td>\n",
       "      <td>371.0</td>\n",
       "      <td>174.0</td>\n",
       "      <td>121.0</td>\n",
       "      <td>-16.0</td>\n",
       "      <td>...</td>\n",
       "      <td>0.0</td>\n",
       "      <td>9.0</td>\n",
       "      <td>-0.9</td>\n",
       "      <td>0.0</td>\n",
       "      <td>0.0</td>\n",
       "      <td>0.9</td>\n",
       "      <td>2.9</td>\n",
       "      <td>23.3</td>\n",
       "      <td>49.4</td>\n",
       "      <td>True</td>\n",
       "    </tr>\n",
       "    <tr>\n",
       "      <th>1</th>\n",
       "      <td>56.0</td>\n",
       "      <td>True</td>\n",
       "      <td>165.0</td>\n",
       "      <td>64.0</td>\n",
       "      <td>81.0</td>\n",
       "      <td>174.0</td>\n",
       "      <td>401.0</td>\n",
       "      <td>149.0</td>\n",
       "      <td>39.0</td>\n",
       "      <td>25.0</td>\n",
       "      <td>...</td>\n",
       "      <td>0.0</td>\n",
       "      <td>8.5</td>\n",
       "      <td>0.0</td>\n",
       "      <td>0.0</td>\n",
       "      <td>0.0</td>\n",
       "      <td>0.2</td>\n",
       "      <td>2.1</td>\n",
       "      <td>20.4</td>\n",
       "      <td>38.8</td>\n",
       "      <td>True</td>\n",
       "    </tr>\n",
       "    <tr>\n",
       "      <th>2</th>\n",
       "      <td>54.0</td>\n",
       "      <td>False</td>\n",
       "      <td>172.0</td>\n",
       "      <td>95.0</td>\n",
       "      <td>138.0</td>\n",
       "      <td>163.0</td>\n",
       "      <td>386.0</td>\n",
       "      <td>185.0</td>\n",
       "      <td>102.0</td>\n",
       "      <td>96.0</td>\n",
       "      <td>...</td>\n",
       "      <td>0.0</td>\n",
       "      <td>9.5</td>\n",
       "      <td>-2.4</td>\n",
       "      <td>0.0</td>\n",
       "      <td>0.0</td>\n",
       "      <td>0.3</td>\n",
       "      <td>3.4</td>\n",
       "      <td>12.3</td>\n",
       "      <td>49.0</td>\n",
       "      <td>True</td>\n",
       "    </tr>\n",
       "    <tr>\n",
       "      <th>3</th>\n",
       "      <td>55.0</td>\n",
       "      <td>False</td>\n",
       "      <td>175.0</td>\n",
       "      <td>94.0</td>\n",
       "      <td>100.0</td>\n",
       "      <td>202.0</td>\n",
       "      <td>380.0</td>\n",
       "      <td>179.0</td>\n",
       "      <td>143.0</td>\n",
       "      <td>28.0</td>\n",
       "      <td>...</td>\n",
       "      <td>0.0</td>\n",
       "      <td>12.2</td>\n",
       "      <td>-2.2</td>\n",
       "      <td>0.0</td>\n",
       "      <td>0.0</td>\n",
       "      <td>0.4</td>\n",
       "      <td>2.6</td>\n",
       "      <td>34.6</td>\n",
       "      <td>61.6</td>\n",
       "      <td>False</td>\n",
       "    </tr>\n",
       "    <tr>\n",
       "      <th>4</th>\n",
       "      <td>75.0</td>\n",
       "      <td>False</td>\n",
       "      <td>190.0</td>\n",
       "      <td>80.0</td>\n",
       "      <td>88.0</td>\n",
       "      <td>181.0</td>\n",
       "      <td>360.0</td>\n",
       "      <td>177.0</td>\n",
       "      <td>103.0</td>\n",
       "      <td>-16.0</td>\n",
       "      <td>...</td>\n",
       "      <td>0.0</td>\n",
       "      <td>13.1</td>\n",
       "      <td>-3.6</td>\n",
       "      <td>0.0</td>\n",
       "      <td>0.0</td>\n",
       "      <td>-0.1</td>\n",
       "      <td>3.9</td>\n",
       "      <td>25.4</td>\n",
       "      <td>62.8</td>\n",
       "      <td>True</td>\n",
       "    </tr>\n",
       "  </tbody>\n",
       "</table>\n",
       "<p>5 rows × 280 columns</p>\n",
       "</div>"
      ],
      "text/plain": [
       "      0  gender      2     3      4      5      6      7      8     9  ...  \\\n",
       "0  75.0   False  190.0  80.0   91.0  193.0  371.0  174.0  121.0 -16.0  ...   \n",
       "1  56.0    True  165.0  64.0   81.0  174.0  401.0  149.0   39.0  25.0  ...   \n",
       "2  54.0   False  172.0  95.0  138.0  163.0  386.0  185.0  102.0  96.0  ...   \n",
       "3  55.0   False  175.0  94.0  100.0  202.0  380.0  179.0  143.0  28.0  ...   \n",
       "4  75.0   False  190.0  80.0   88.0  181.0  360.0  177.0  103.0 -16.0  ...   \n",
       "\n",
       "   270   271  272  273  274  275  276   277   278    279  \n",
       "0  0.0   9.0 -0.9  0.0  0.0  0.9  2.9  23.3  49.4   True  \n",
       "1  0.0   8.5  0.0  0.0  0.0  0.2  2.1  20.4  38.8   True  \n",
       "2  0.0   9.5 -2.4  0.0  0.0  0.3  3.4  12.3  49.0   True  \n",
       "3  0.0  12.2 -2.2  0.0  0.0  0.4  2.6  34.6  61.6  False  \n",
       "4  0.0  13.1 -3.6  0.0  0.0 -0.1  3.9  25.4  62.8   True  \n",
       "\n",
       "[5 rows x 280 columns]"
      ]
     },
     "execution_count": 327,
     "metadata": {},
     "output_type": "execute_result"
    }
   ],
   "source": [
    "arrythmia.head()"
   ]
  },
  {
   "cell_type": "code",
   "execution_count": 338,
   "metadata": {},
   "outputs": [
    {
     "name": "stdout",
     "output_type": "stream",
     "text": [
      "Best accuracy:  0.6745893719806764  with fairness 0.2562670662670663\n",
      "Best Fairness:  0.6745893719806764  with fairness 0.2562670662670663\n"
     ]
    }
   ],
   "source": [
    "from sklearn import tree\n",
    "import pandas as pd\n",
    "from sklearn.model_selection import cross_val_score\n",
    "\n",
    "X = arrythmia.drop(279, axis = 1).to_numpy()\n",
    "Y = arrythmia[279].to_numpy()\n",
    "g = arrythmia['gender'].to_numpy()\n",
    "\n",
    "min_samples = [50,100,150,200,250,400,450,500,600,700,1000]\n",
    "acc = []\n",
    "acc_sd = []\n",
    "fair = []\n",
    "fair_sd = []\n",
    "\n",
    "for sam in min_samples:\n",
    "    cart = tree.DecisionTreeClassifier(min_samples_leaf = sam)\n",
    "    scores = fairCrossValScore(cart, X, Y, g, cv=10)\n",
    "    acc.append(scores[0].mean())\n",
    "    acc_sd.append(scores[0].std())\n",
    "    fair.append(scores[1].mean())\n",
    "    fair_sd.append(scores[1].std())\n",
    "\n",
    "\n",
    "best_acc = np.argmax(acc)\n",
    "best_fair = np.argmax(acc)\n",
    "print('Best accuracy: ', acc[best_acc], ' with fairness', fair[best_acc])\n",
    "print('Best Fairness: ', acc[best_fair], ' with fairness', fair[best_fair])"
   ]
  },
  {
   "cell_type": "code",
   "execution_count": 4,
   "metadata": {},
   "outputs": [],
   "source": [
    "def getFold(X,Y,group, indices):\n",
    "    X_train = np.delete(X, indices, axis=0)\n",
    "    Y_train = np.delete(Y, indices)\n",
    "    g_train = np.delete(group, indices)\n",
    "\n",
    "    X_test = X[indices,:]\n",
    "    Y_test = Y[indices]\n",
    "    g_test = group[indices]\n",
    "    \n",
    "    return X_train, Y_train, g_train, X_test, Y_test, g_test\n",
    "\n",
    "def fairCrossValScore(model, X, Y, g, cv=10, hp=10):\n",
    "    break_points = np.floor(np.arange(0,1+1/cv, 1/cv) * X.shape[0]).astype(np.int)\n",
    "    acc = []\n",
    "    eqGap = []\n",
    "    for i in range(cv):\n",
    "        X_tr, Y_tr, g_tr, X_t, Y_t, g_t = getFold(X, Y, g, np.arange(break_points[i], break_points[i+1]))\n",
    "        model.fit(X_tr, Y_tr)\n",
    "        preds = model.predict(X_t)\n",
    "        accuracy = (preds == Y_t).mean()\n",
    "        EqOfOpGap = abs((preds[g_t & Y_t] == 1).mean() - (preds[(~g_t) & Y_t] == 1).mean())\n",
    "        acc.append(accuracy)\n",
    "        eqGap.append(EqOfOpGap)\n",
    "    return np.array(acc), np.array(eqGap)\n"
   ]
  },
  {
   "cell_type": "code",
   "execution_count": 308,
   "metadata": {},
   "outputs": [
    {
     "data": {
      "text/plain": [
       "array([   0,  188,  377,  565,  754,  942, 1131, 1319, 1508, 1696, 1885])"
      ]
     },
     "execution_count": 308,
     "metadata": {},
     "output_type": "execute_result"
    }
   ],
   "source": [
    "cv=10\n",
    "break_points = np.floor(np.arange(0,1+1/cv, 1/cv) * X.shape[0]).astype(np.int)\n",
    "break_points"
   ]
  },
  {
   "cell_type": "code",
   "execution_count": 299,
   "metadata": {},
   "outputs": [],
   "source": [
    "cross_val_score?"
   ]
  },
  {
   "cell_type": "code",
   "execution_count": 292,
   "metadata": {},
   "outputs": [
    {
     "data": {
      "text/plain": [
       "200"
      ]
     },
     "execution_count": 292,
     "metadata": {},
     "output_type": "execute_result"
    }
   ],
   "source": [
    "min_samples[np.argmax(results)]"
   ]
  },
  {
   "cell_type": "code",
   "execution_count": 60,
   "metadata": {},
   "outputs": [
    {
     "name": "stdout",
     "output_type": "stream",
     "text": [
      "Best accuracy:  0.8551027403460625  with fairness 0.15898151111784337\n",
      "Best Fairness:  0.8551027403460625  with fairness 0.15898151111784337\n"
     ]
    }
   ],
   "source": [
    "from sklearn import tree\n",
    "import pandas as pd\n",
    "from sklearn.model_selection import cross_val_score\n",
    "adult = pd.get_dummies(pd.read_csv('adult.csv'))\n",
    "\n",
    "X = adult.drop('Y', axis = 1).to_numpy()\n",
    "Y = adult['Y'].to_numpy()\n",
    "g = adult['gender'].to_numpy()\n",
    "\n",
    "min_samples = [50,100,150,200,250,400,450,500,600,700,1000]\n",
    "acc = []\n",
    "acc_sd = []\n",
    "fair = []\n",
    "fair_sd = []\n",
    "\n",
    "for sam in min_samples:\n",
    "    cart = tree.DecisionTreeClassifier(min_samples_leaf = sam)\n",
    "    scores = fairCrossValScore(cart, X, Y, g, cv=10)\n",
    "    acc.append(scores[0].mean())\n",
    "    acc_sd.append(scores[0].std())\n",
    "    fair.append(scores[1].mean())\n",
    "    fair_sd.append(scores[1].std())\n",
    "\n",
    "\n",
    "best_acc = np.argmax(acc)\n",
    "best_fair = np.argmax(acc)\n",
    "print('Best accuracy: ', acc[best_acc], ' with fairness', fair[best_acc])\n",
    "print('Best Fairness: ', acc[best_fair], ' with fairness', fair[best_fair])"
   ]
  },
  {
   "cell_type": "code",
   "execution_count": 59,
   "metadata": {},
   "outputs": [
    {
     "data": {
      "text/plain": [
       "False    0.75919\n",
       "True     0.24081\n",
       "Name: Y, dtype: float64"
      ]
     },
     "execution_count": 59,
     "metadata": {},
     "output_type": "execute_result"
    }
   ],
   "source": [
    "adult['Y'].value_counts(True)"
   ]
  },
  {
   "cell_type": "code",
   "execution_count": 61,
   "metadata": {},
   "outputs": [
    {
     "data": {
      "text/html": [
       "<div>\n",
       "<style scoped>\n",
       "    .dataframe tbody tr th:only-of-type {\n",
       "        vertical-align: middle;\n",
       "    }\n",
       "\n",
       "    .dataframe tbody tr th {\n",
       "        vertical-align: top;\n",
       "    }\n",
       "\n",
       "    .dataframe thead th {\n",
       "        text-align: right;\n",
       "    }\n",
       "</style>\n",
       "<table border=\"1\" class=\"dataframe\">\n",
       "  <thead>\n",
       "    <tr style=\"text-align: right;\">\n",
       "      <th></th>\n",
       "      <th>algo</th>\n",
       "      <th>Accuracy</th>\n",
       "      <th>EqOfOp</th>\n",
       "      <th>cumAcc</th>\n",
       "    </tr>\n",
       "  </thead>\n",
       "  <tbody>\n",
       "    <tr>\n",
       "      <th>11</th>\n",
       "      <td>cart</td>\n",
       "      <td>0.760000</td>\n",
       "      <td>0.000000</td>\n",
       "      <td>0.760000</td>\n",
       "    </tr>\n",
       "    <tr>\n",
       "      <th>0</th>\n",
       "      <td>cart</td>\n",
       "      <td>0.853751</td>\n",
       "      <td>0.083778</td>\n",
       "      <td>0.853751</td>\n",
       "    </tr>\n",
       "    <tr>\n",
       "      <th>7</th>\n",
       "      <td>cart</td>\n",
       "      <td>0.839317</td>\n",
       "      <td>0.126175</td>\n",
       "      <td>0.853751</td>\n",
       "    </tr>\n",
       "    <tr>\n",
       "      <th>2</th>\n",
       "      <td>cart</td>\n",
       "      <td>0.854611</td>\n",
       "      <td>0.155069</td>\n",
       "      <td>0.854611</td>\n",
       "    </tr>\n",
       "    <tr>\n",
       "      <th>1</th>\n",
       "      <td>cart</td>\n",
       "      <td>0.855103</td>\n",
       "      <td>0.158982</td>\n",
       "      <td>0.855103</td>\n",
       "    </tr>\n",
       "    <tr>\n",
       "      <th>5</th>\n",
       "      <td>cart</td>\n",
       "      <td>0.845183</td>\n",
       "      <td>0.169443</td>\n",
       "      <td>0.855103</td>\n",
       "    </tr>\n",
       "    <tr>\n",
       "      <th>6</th>\n",
       "      <td>cart</td>\n",
       "      <td>0.841989</td>\n",
       "      <td>0.169890</td>\n",
       "      <td>0.855103</td>\n",
       "    </tr>\n",
       "    <tr>\n",
       "      <th>3</th>\n",
       "      <td>cart</td>\n",
       "      <td>0.853199</td>\n",
       "      <td>0.172683</td>\n",
       "      <td>0.855103</td>\n",
       "    </tr>\n",
       "    <tr>\n",
       "      <th>10</th>\n",
       "      <td>cart</td>\n",
       "      <td>0.824361</td>\n",
       "      <td>0.175668</td>\n",
       "      <td>0.855103</td>\n",
       "    </tr>\n",
       "    <tr>\n",
       "      <th>4</th>\n",
       "      <td>cart</td>\n",
       "      <td>0.850895</td>\n",
       "      <td>0.180885</td>\n",
       "      <td>0.855103</td>\n",
       "    </tr>\n",
       "    <tr>\n",
       "      <th>8</th>\n",
       "      <td>cart</td>\n",
       "      <td>0.836062</td>\n",
       "      <td>0.183161</td>\n",
       "      <td>0.855103</td>\n",
       "    </tr>\n",
       "    <tr>\n",
       "      <th>9</th>\n",
       "      <td>cart</td>\n",
       "      <td>0.831670</td>\n",
       "      <td>0.200376</td>\n",
       "      <td>0.855103</td>\n",
       "    </tr>\n",
       "  </tbody>\n",
       "</table>\n",
       "</div>"
      ],
      "text/plain": [
       "    algo  Accuracy    EqOfOp    cumAcc\n",
       "11  cart  0.760000  0.000000  0.760000\n",
       "0   cart  0.853751  0.083778  0.853751\n",
       "7   cart  0.839317  0.126175  0.853751\n",
       "2   cart  0.854611  0.155069  0.854611\n",
       "1   cart  0.855103  0.158982  0.855103\n",
       "5   cart  0.845183  0.169443  0.855103\n",
       "6   cart  0.841989  0.169890  0.855103\n",
       "3   cart  0.853199  0.172683  0.855103\n",
       "10  cart  0.824361  0.175668  0.855103\n",
       "4   cart  0.850895  0.180885  0.855103\n",
       "8   cart  0.836062  0.183161  0.855103\n",
       "9   cart  0.831670  0.200376  0.855103"
      ]
     },
     "execution_count": 61,
     "metadata": {},
     "output_type": "execute_result"
    }
   ],
   "source": [
    "adult_bench_cart = (pd.DataFrame({'algo': 'cart', 'Accuracy': acc+[0.76], 'EqOfOp': fair+[0]})\n",
    "                      .sort_values('EqOfOp')\n",
    "                     .assign(cumAcc = lambda df: df.Accuracy.cummax()))\n",
    "adult_bench_cart"
   ]
  },
  {
   "cell_type": "code",
   "execution_count": 62,
   "metadata": {},
   "outputs": [
    {
     "name": "stdout",
     "output_type": "stream",
     "text": [
      "Best accuracy:  0.8009889774358611  with fairness 0.07064164785058671\n",
      "Best Fairness:  0.7979177243646081  with fairness 0.035770340121590964\n"
     ]
    }
   ],
   "source": [
    "from sklearn.linear_model import LogisticRegression\n",
    "import pandas as pd\n",
    "from sklearn.model_selection import cross_val_score\n",
    "\n",
    "adult = pd.get_dummies(pd.read_csv('adult.csv'))\n",
    "\n",
    "X = adult.drop('Y', axis = 1).to_numpy()\n",
    "Y = adult['Y'].to_numpy()\n",
    "g = adult['gender'].to_numpy()\n",
    "\n",
    "Cs = [0.01, 0.1, 1, 3, 10]\n",
    "acc = []\n",
    "acc_sd = []\n",
    "fair = []\n",
    "fair_sd = []\n",
    "\n",
    "for C in Cs:\n",
    "    cart = LogisticRegression(C = C, max_iter = 1000)\n",
    "    scores = fairCrossValScore(cart, X, Y, g, cv=10)\n",
    "    acc.append(scores[0].mean())\n",
    "    acc_sd.append(scores[0].std())\n",
    "    fair.append(scores[1].mean())\n",
    "    fair_sd.append(scores[1].std())\n",
    "\n",
    "\n",
    "best_acc = np.argmax(acc)\n",
    "best_fair = np.argmin(fair)\n",
    "print('Best accuracy: ', acc[best_acc], ' with fairness', fair[best_acc])\n",
    "print('Best Fairness: ', acc[best_fair], ' with fairness', fair[best_fair])"
   ]
  },
  {
   "cell_type": "code",
   "execution_count": 63,
   "metadata": {},
   "outputs": [],
   "source": [
    "adult_bench_lr = (pd.DataFrame({'algo': 'logreg', 'Accuracy': acc+[0.76], 'EqOfOp': fair+[0]})\n",
    "                      .sort_values('EqOfOp')\n",
    "                     .assign(cumAcc = lambda df: df.Accuracy.cummax()))"
   ]
  },
  {
   "cell_type": "code",
   "execution_count": 64,
   "metadata": {},
   "outputs": [],
   "source": [
    "adult_bench_cart.append(adult_bench_lr).to_csv('benchmark_adult.csv')"
   ]
  },
  {
   "cell_type": "code",
   "execution_count": 28,
   "metadata": {},
   "outputs": [
    {
     "data": {
      "text/html": [
       "<div>\n",
       "<style scoped>\n",
       "    .dataframe tbody tr th:only-of-type {\n",
       "        vertical-align: middle;\n",
       "    }\n",
       "\n",
       "    .dataframe tbody tr th {\n",
       "        vertical-align: top;\n",
       "    }\n",
       "\n",
       "    .dataframe thead th {\n",
       "        text-align: right;\n",
       "    }\n",
       "</style>\n",
       "<table border=\"1\" class=\"dataframe\">\n",
       "  <thead>\n",
       "    <tr style=\"text-align: right;\">\n",
       "      <th></th>\n",
       "      <th>algo</th>\n",
       "      <th>Accuracy</th>\n",
       "      <th>EqOfOp</th>\n",
       "    </tr>\n",
       "  </thead>\n",
       "  <tbody>\n",
       "    <tr>\n",
       "      <th>4</th>\n",
       "      <td>logReg</td>\n",
       "      <td>0.800989</td>\n",
       "      <td>0.070642</td>\n",
       "    </tr>\n",
       "    <tr>\n",
       "      <th>2</th>\n",
       "      <td>logReg</td>\n",
       "      <td>0.797918</td>\n",
       "      <td>0.035770</td>\n",
       "    </tr>\n",
       "  </tbody>\n",
       "</table>\n",
       "</div>"
      ],
      "text/plain": [
       "     algo  Accuracy    EqOfOp\n",
       "4  logReg  0.800989  0.070642\n",
       "2  logReg  0.797918  0.035770"
      ]
     },
     "execution_count": 28,
     "metadata": {},
     "output_type": "execute_result"
    }
   ],
   "source": [
    "adult_bench = pd.DataFrame({'algo': 'logReg', 'Accuracy': acc, 'EqOfOp': fair})\n",
    "bestOfAct = np.argmax(adult_bench.Accuracy)\n",
    "bestOfFair = np.argmin(adult_bench.EqOfOp)\n",
    "adult_bench.iloc[[bestOfAct, bestOfFair],:]"
   ]
  },
  {
   "cell_type": "code",
   "execution_count": 22,
   "metadata": {},
   "outputs": [
    {
     "ename": "AttributeError",
     "evalue": "'DataFrameGroupBy' object has no attribute 'assign'",
     "output_type": "error",
     "traceback": [
      "\u001b[0;31m---------------------------------------------------------------------------\u001b[0m",
      "\u001b[0;31mAttributeError\u001b[0m                            Traceback (most recent call last)",
      "\u001b[0;32m<ipython-input-22-1d111733287f>\u001b[0m in \u001b[0;36m<module>\u001b[0;34m\u001b[0m\n\u001b[1;32m      1\u001b[0m \u001b[0madult_full_bench\u001b[0m \u001b[0;34m=\u001b[0m \u001b[0madult_bench\u001b[0m\u001b[0;34m.\u001b[0m\u001b[0mappend\u001b[0m\u001b[0;34m(\u001b[0m\u001b[0madult_bench_cart\u001b[0m\u001b[0;34m)\u001b[0m\u001b[0;34m\u001b[0m\u001b[0;34m\u001b[0m\u001b[0m\n\u001b[0;32m----> 2\u001b[0;31m (adult_full_bench.groupby(['algo'])\n\u001b[0m\u001b[1;32m      3\u001b[0m  .assign(cumAcc=lambda df: df.Accuracy.cummax()))\n",
      "\u001b[0;32m/anaconda3/envs/decisionRule/lib/python3.7/site-packages/pandas/core/groupby/groupby.py\u001b[0m in \u001b[0;36m__getattr__\u001b[0;34m(self, attr)\u001b[0m\n\u001b[1;32m    578\u001b[0m \u001b[0;34m\u001b[0m\u001b[0m\n\u001b[1;32m    579\u001b[0m         raise AttributeError(\n\u001b[0;32m--> 580\u001b[0;31m             \u001b[0;34mf\"'{type(self).__name__}' object has no attribute '{attr}'\"\u001b[0m\u001b[0;34m\u001b[0m\u001b[0;34m\u001b[0m\u001b[0m\n\u001b[0m\u001b[1;32m    581\u001b[0m         )\n\u001b[1;32m    582\u001b[0m \u001b[0;34m\u001b[0m\u001b[0m\n",
      "\u001b[0;31mAttributeError\u001b[0m: 'DataFrameGroupBy' object has no attribute 'assign'"
     ]
    }
   ],
   "source": [
    "adult_full_bench = adult_bench.append(adult_bench_cart)\n",
    "(adult_full_bench.groupby(['algo'])\n",
    " .sort_values('Accuracy', ascending = True)\n",
    " .assign(cumAcc=lambda df: df.Accuracy.cummax()))"
   ]
  },
  {
   "cell_type": "code",
   "execution_count": 415,
   "metadata": {},
   "outputs": [],
   "source": [
    "default = (pd.read_excel('default of credit card clients.xls')\n",
    "           .drop(0)\n",
    "           .drop('Unnamed: 0', axis=1)\n",
    "           .astype('float64')\n",
    "           .assign(X2= lambda df: df.X2 == 1)\n",
    "           .astype({'Y': 'bool', \n",
    "                   'X2':'bool'}))\n",
    "\n",
    "\n",
    "default.to_csv('../data/default.csv', index = False)"
   ]
  },
  {
   "cell_type": "code",
   "execution_count": 81,
   "metadata": {},
   "outputs": [
    {
     "name": "stdout",
     "output_type": "stream",
     "text": [
      "Best accuracy:  0.8205666666666668  with fairness 0.02990852760752783\n",
      "Best Fairness:  0.8205666666666668  with fairness 0.02990852760752783\n"
     ]
    }
   ],
   "source": [
    "from sklearn import tree\n",
    "import pandas as pd\n",
    "from sklearn.model_selection import cross_val_score\n",
    "default = pd.get_dummies(pd.read_csv('../data/default.csv'))\n",
    "\n",
    "X = default.drop('Y', axis = 1).to_numpy()\n",
    "Y = default['Y'].to_numpy()\n",
    "g = default['X2'].to_numpy()\n",
    "\n",
    "min_samples = [50,100,150,200,250,400,450,500,600,700,1000]\n",
    "acc = []\n",
    "acc_sd = []\n",
    "fair = []\n",
    "fair_sd = []\n",
    "\n",
    "for sam in min_samples:\n",
    "    cart = tree.DecisionTreeClassifier(min_samples_leaf = sam)\n",
    "    scores = fairCrossValScore(cart, X, Y, g, cv=10)\n",
    "    acc.append(scores[0].mean())\n",
    "    acc_sd.append(scores[0].std())\n",
    "    fair.append(scores[1].mean())\n",
    "    fair_sd.append(scores[1].std())\n",
    "\n",
    "\n",
    "best_acc = np.argmax(acc)\n",
    "best_fair = np.argmax(acc)\n",
    "print('Best accuracy: ', acc[best_acc], ' with fairness', fair[best_acc])\n",
    "print('Best Fairness: ', acc[best_fair], ' with fairness', fair[best_fair])"
   ]
  },
  {
   "cell_type": "code",
   "execution_count": 82,
   "metadata": {},
   "outputs": [
    {
     "data": {
      "text/html": [
       "<div>\n",
       "<style scoped>\n",
       "    .dataframe tbody tr th:only-of-type {\n",
       "        vertical-align: middle;\n",
       "    }\n",
       "\n",
       "    .dataframe tbody tr th {\n",
       "        vertical-align: top;\n",
       "    }\n",
       "\n",
       "    .dataframe thead th {\n",
       "        text-align: right;\n",
       "    }\n",
       "</style>\n",
       "<table border=\"1\" class=\"dataframe\">\n",
       "  <thead>\n",
       "    <tr style=\"text-align: right;\">\n",
       "      <th></th>\n",
       "      <th>algo</th>\n",
       "      <th>Accuracy</th>\n",
       "      <th>EqOfOp</th>\n",
       "      <th>cumAcc</th>\n",
       "    </tr>\n",
       "  </thead>\n",
       "  <tbody>\n",
       "    <tr>\n",
       "      <th>10</th>\n",
       "      <td>cart</td>\n",
       "      <td>0.819600</td>\n",
       "      <td>0.025732</td>\n",
       "      <td>0.819600</td>\n",
       "    </tr>\n",
       "    <tr>\n",
       "      <th>0</th>\n",
       "      <td>cart</td>\n",
       "      <td>0.812400</td>\n",
       "      <td>0.026186</td>\n",
       "      <td>0.819600</td>\n",
       "    </tr>\n",
       "    <tr>\n",
       "      <th>9</th>\n",
       "      <td>cart</td>\n",
       "      <td>0.819133</td>\n",
       "      <td>0.026249</td>\n",
       "      <td>0.819600</td>\n",
       "    </tr>\n",
       "    <tr>\n",
       "      <th>5</th>\n",
       "      <td>cart</td>\n",
       "      <td>0.819800</td>\n",
       "      <td>0.028369</td>\n",
       "      <td>0.819800</td>\n",
       "    </tr>\n",
       "    <tr>\n",
       "      <th>6</th>\n",
       "      <td>cart</td>\n",
       "      <td>0.819800</td>\n",
       "      <td>0.028369</td>\n",
       "      <td>0.819800</td>\n",
       "    </tr>\n",
       "    <tr>\n",
       "      <th>7</th>\n",
       "      <td>cart</td>\n",
       "      <td>0.819800</td>\n",
       "      <td>0.028369</td>\n",
       "      <td>0.819800</td>\n",
       "    </tr>\n",
       "    <tr>\n",
       "      <th>8</th>\n",
       "      <td>cart</td>\n",
       "      <td>0.820567</td>\n",
       "      <td>0.029909</td>\n",
       "      <td>0.820567</td>\n",
       "    </tr>\n",
       "    <tr>\n",
       "      <th>1</th>\n",
       "      <td>cart</td>\n",
       "      <td>0.818167</td>\n",
       "      <td>0.037382</td>\n",
       "      <td>0.820567</td>\n",
       "    </tr>\n",
       "    <tr>\n",
       "      <th>4</th>\n",
       "      <td>cart</td>\n",
       "      <td>0.819667</td>\n",
       "      <td>0.042691</td>\n",
       "      <td>0.820567</td>\n",
       "    </tr>\n",
       "    <tr>\n",
       "      <th>2</th>\n",
       "      <td>cart</td>\n",
       "      <td>0.818967</td>\n",
       "      <td>0.048100</td>\n",
       "      <td>0.820567</td>\n",
       "    </tr>\n",
       "    <tr>\n",
       "      <th>3</th>\n",
       "      <td>cart</td>\n",
       "      <td>0.819233</td>\n",
       "      <td>0.054395</td>\n",
       "      <td>0.820567</td>\n",
       "    </tr>\n",
       "  </tbody>\n",
       "</table>\n",
       "</div>"
      ],
      "text/plain": [
       "    algo  Accuracy    EqOfOp    cumAcc\n",
       "10  cart  0.819600  0.025732  0.819600\n",
       "0   cart  0.812400  0.026186  0.819600\n",
       "9   cart  0.819133  0.026249  0.819600\n",
       "5   cart  0.819800  0.028369  0.819800\n",
       "6   cart  0.819800  0.028369  0.819800\n",
       "7   cart  0.819800  0.028369  0.819800\n",
       "8   cart  0.820567  0.029909  0.820567\n",
       "1   cart  0.818167  0.037382  0.820567\n",
       "4   cart  0.819667  0.042691  0.820567\n",
       "2   cart  0.818967  0.048100  0.820567\n",
       "3   cart  0.819233  0.054395  0.820567"
      ]
     },
     "execution_count": 82,
     "metadata": {},
     "output_type": "execute_result"
    }
   ],
   "source": [
    "default_bench_cart = (pd.DataFrame({'algo': 'cart', 'Accuracy': acc, 'EqOfOp': fair})\n",
    "                      .sort_values('EqOfOp')\n",
    "                     .assign(cumAcc = lambda df: df.Accuracy.cummax()))\n",
    "default_bench_cart"
   ]
  },
  {
   "cell_type": "code",
   "execution_count": 83,
   "metadata": {},
   "outputs": [
    {
     "name": "stdout",
     "output_type": "stream",
     "text": [
      "Best accuracy:  0.7787666666666667  with fairness 0.0\n",
      "Best Fairness:  0.7787666666666667  with fairness 0.0\n"
     ]
    }
   ],
   "source": [
    "from sklearn.linear_model import LogisticRegression\n",
    "import pandas as pd\n",
    "from sklearn.model_selection import cross_val_score\n",
    "\n",
    "default = pd.get_dummies(pd.read_csv('../data/default.csv'))\n",
    "\n",
    "X = default.drop('Y', axis = 1).to_numpy()\n",
    "Y = default['Y'].to_numpy()\n",
    "g = default['X2'].to_numpy()\n",
    "\n",
    "Cs = [0.01, 0.1, 1, 3, 10]\n",
    "acc = []\n",
    "acc_sd = []\n",
    "fair = []\n",
    "fair_sd = []\n",
    "\n",
    "for C in Cs:\n",
    "    cart = LogisticRegression(C = C, max_iter = 1000)\n",
    "    scores = fairCrossValScore(cart, X, Y, g, cv=10)\n",
    "    acc.append(scores[0].mean())\n",
    "    acc_sd.append(scores[0].std())\n",
    "    fair.append(scores[1].mean())\n",
    "    fair_sd.append(scores[1].std())\n",
    "\n",
    "\n",
    "best_acc = np.argmax(acc)\n",
    "best_fair = np.argmin(fair)\n",
    "print('Best accuracy: ', acc[best_acc], ' with fairness', fair[best_acc])\n",
    "print('Best Fairness: ', acc[best_fair], ' with fairness', fair[best_fair])"
   ]
  },
  {
   "cell_type": "code",
   "execution_count": 84,
   "metadata": {},
   "outputs": [],
   "source": [
    "default_bench_lr = (pd.DataFrame({'algo': 'logreg', 'Accuracy': acc, 'EqOfOp': fair})\n",
    "                      .sort_values('EqOfOp')\n",
    "                     .assign(cumAcc = lambda df: df.Accuracy.cummax()))\n",
    "default_bench_lr.append(default_bench_cart).to_csv('benchmark_default.csv')"
   ]
  },
  {
   "cell_type": "code",
   "execution_count": 86,
   "metadata": {},
   "outputs": [
    {
     "data": {
      "text/plain": [
       "False    0.7788\n",
       "True     0.2212\n",
       "Name: Y, dtype: float64"
      ]
     },
     "execution_count": 86,
     "metadata": {},
     "output_type": "execute_result"
    }
   ],
   "source": [
    "default['Y'].value_counts(True)"
   ]
  },
  {
   "cell_type": "code",
   "execution_count": null,
   "metadata": {},
   "outputs": [],
   "source": [
    "default_bench_lr = pd.DataFrame({'algo': 'logreg', 'Accuracy': acc, 'EqOfOp': fair})\n",
    "bestOfAct = np.argmax(default_bench_lr.Accuracy)\n",
    "bestOfFair = np.argmin(default_bench_lr.EqOfOp)\n",
    "default_bench_lr.iloc[[bestOfAct, bestOfFair],:]"
   ]
  },
  {
   "cell_type": "code",
   "execution_count": 419,
   "metadata": {},
   "outputs": [
    {
     "data": {
      "text/plain": [
       "600"
      ]
     },
     "execution_count": 419,
     "metadata": {},
     "output_type": "execute_result"
    }
   ],
   "source": [
    "min_samples[np.argmax(acc)]"
   ]
  },
  {
   "cell_type": "code",
   "execution_count": 360,
   "metadata": {},
   "outputs": [
    {
     "name": "stdout",
     "output_type": "stream",
     "text": [
      "Best accuracy:  0.8205666666666668  with fairness 0.02990852760752783\n",
      "Best Fairness:  0.8205666666666668  with fairness 0.02990852760752783\n"
     ]
    }
   ],
   "source": [
    "from sklearn import tree\n",
    "import pandas as pd\n",
    "from sklearn.model_selection import cross_val_score\n",
    "\n",
    "X = default.drop('Y', axis = 1).to_numpy()\n",
    "Y = default['Y'].to_numpy()\n",
    "g = default['X2'].to_numpy()\n",
    "arrythmia = pd.read_csv('arrhythmia.data', header = None)\n",
    "arrythmia[1] = arrythmia[1].astype(np.bool)\n",
    "arrythmia[279] = ~(arrythmia[279] == 1)\n",
    "arrythmia = (arrythmia.rename({1: 'gender'}, axis = 1)\n",
    "             .replace({'?': None})\n",
    "             .astype('float64')\n",
    "             .astype({'gender':'bool', 279: 'bool'})\n",
    "             .apply(lambda x: x.fillna(x.mean())))\n",
    "arrythmia.to_csv('../data/arrythmia.csv', index = False)\n",
    "min_samples = [50,100,150,200,250,400,450,500,600,700,1000]\n",
    "acc = []\n",
    "acc_sd = []\n",
    "fair = []\n",
    "fair_sd = []\n",
    "\n",
    "for sam in min_samples:\n",
    "    cart = tree.DecisionTreeClassifier(min_samples_leaf = sam)\n",
    "    scores = fairCrossValScore(cart, X, Y, g, cv=10)\n",
    "    acc.append(scores[0].mean())\n",
    "    acc_sd.append(scores[0].std())\n",
    "    fair.append(scores[1].mean())\n",
    "    fair_sd.append(scores[1].std())\n",
    "\n",
    "\n",
    "best_acc = np.argmax(acc)\n",
    "best_fair = np.argmax(acc)\n",
    "print('Best accuracy: ', acc[best_acc], ' with fairness', fair[best_acc])\n",
    "print('Best Fairness: ', acc[best_fair], ' with fairness', fair[best_fair])"
   ]
  },
  {
   "cell_type": "code",
   "execution_count": 66,
   "metadata": {},
   "outputs": [
    {
     "data": {
      "text/plain": [
       "False    0.529557\n",
       "True     0.470443\n",
       "Name: Y, dtype: float64"
      ]
     },
     "execution_count": 66,
     "metadata": {},
     "output_type": "execute_result"
    }
   ],
   "source": [
    "compas['Y'].value_counts(True)"
   ]
  },
  {
   "cell_type": "code",
   "execution_count": 77,
   "metadata": {},
   "outputs": [
    {
     "name": "stdout",
     "output_type": "stream",
     "text": [
      "Best accuracy:  0.6813211574952562  with fairness 0.2556830606880317\n",
      "Best Fairness:  0.6813211574952562  with fairness 0.2556830606880317\n"
     ]
    }
   ],
   "source": [
    "from sklearn import tree\n",
    "import pandas as pd\n",
    "from sklearn.model_selection import cross_val_score\n",
    "\n",
    "X = compas.drop('Y', axis = 1).to_numpy()\n",
    "Y = compas['Y'].to_numpy()\n",
    "g = compas['race'].to_numpy()\n",
    "\n",
    "min_samples = [50,100,150,200,250,400,450,500,600,700,1000]\n",
    "acc = []\n",
    "acc_sd = []\n",
    "fair = []\n",
    "fair_sd = []\n",
    "\n",
    "for sam in min_samples:\n",
    "    cart = tree.DecisionTreeClassifier(min_samples_leaf = sam)\n",
    "    scores = fairCrossValScore(cart, X, Y, g, cv=10)\n",
    "    acc.append(scores[0].mean())\n",
    "    acc_sd.append(scores[0].std())\n",
    "    fair.append(scores[1].mean())\n",
    "    fair_sd.append(scores[1].std())\n",
    "\n",
    "\n",
    "best_acc = np.argmax(acc)\n",
    "best_fair = np.argmax(acc)\n",
    "print('Best accuracy: ', acc[best_acc], ' with fairness', fair[best_acc])\n",
    "print('Best Fairness: ', acc[best_fair], ' with fairness', fair[best_fair])"
   ]
  },
  {
   "cell_type": "code",
   "execution_count": 78,
   "metadata": {},
   "outputs": [
    {
     "data": {
      "text/html": [
       "<div>\n",
       "<style scoped>\n",
       "    .dataframe tbody tr th:only-of-type {\n",
       "        vertical-align: middle;\n",
       "    }\n",
       "\n",
       "    .dataframe tbody tr th {\n",
       "        vertical-align: top;\n",
       "    }\n",
       "\n",
       "    .dataframe thead th {\n",
       "        text-align: right;\n",
       "    }\n",
       "</style>\n",
       "<table border=\"1\" class=\"dataframe\">\n",
       "  <thead>\n",
       "    <tr style=\"text-align: right;\">\n",
       "      <th></th>\n",
       "      <th>algo</th>\n",
       "      <th>Accuracy</th>\n",
       "      <th>EqOfOp</th>\n",
       "      <th>cumAcc</th>\n",
       "    </tr>\n",
       "  </thead>\n",
       "  <tbody>\n",
       "    <tr>\n",
       "      <th>10</th>\n",
       "      <td>cart</td>\n",
       "      <td>0.658209</td>\n",
       "      <td>0.213399</td>\n",
       "      <td>0.658209</td>\n",
       "    </tr>\n",
       "    <tr>\n",
       "      <th>7</th>\n",
       "      <td>cart</td>\n",
       "      <td>0.659348</td>\n",
       "      <td>0.213696</td>\n",
       "      <td>0.659348</td>\n",
       "    </tr>\n",
       "    <tr>\n",
       "      <th>8</th>\n",
       "      <td>cart</td>\n",
       "      <td>0.659348</td>\n",
       "      <td>0.213696</td>\n",
       "      <td>0.659348</td>\n",
       "    </tr>\n",
       "    <tr>\n",
       "      <th>9</th>\n",
       "      <td>cart</td>\n",
       "      <td>0.659348</td>\n",
       "      <td>0.213696</td>\n",
       "      <td>0.659348</td>\n",
       "    </tr>\n",
       "    <tr>\n",
       "      <th>3</th>\n",
       "      <td>cart</td>\n",
       "      <td>0.666542</td>\n",
       "      <td>0.244025</td>\n",
       "      <td>0.666542</td>\n",
       "    </tr>\n",
       "    <tr>\n",
       "      <th>4</th>\n",
       "      <td>cart</td>\n",
       "      <td>0.666733</td>\n",
       "      <td>0.246561</td>\n",
       "      <td>0.666733</td>\n",
       "    </tr>\n",
       "    <tr>\n",
       "      <th>5</th>\n",
       "      <td>cart</td>\n",
       "      <td>0.668249</td>\n",
       "      <td>0.247001</td>\n",
       "      <td>0.668249</td>\n",
       "    </tr>\n",
       "    <tr>\n",
       "      <th>6</th>\n",
       "      <td>cart</td>\n",
       "      <td>0.668249</td>\n",
       "      <td>0.247001</td>\n",
       "      <td>0.668249</td>\n",
       "    </tr>\n",
       "    <tr>\n",
       "      <th>2</th>\n",
       "      <td>cart</td>\n",
       "      <td>0.664836</td>\n",
       "      <td>0.248195</td>\n",
       "      <td>0.668249</td>\n",
       "    </tr>\n",
       "    <tr>\n",
       "      <th>0</th>\n",
       "      <td>cart</td>\n",
       "      <td>0.681321</td>\n",
       "      <td>0.255683</td>\n",
       "      <td>0.681321</td>\n",
       "    </tr>\n",
       "    <tr>\n",
       "      <th>1</th>\n",
       "      <td>cart</td>\n",
       "      <td>0.672986</td>\n",
       "      <td>0.274395</td>\n",
       "      <td>0.681321</td>\n",
       "    </tr>\n",
       "  </tbody>\n",
       "</table>\n",
       "</div>"
      ],
      "text/plain": [
       "    algo  Accuracy    EqOfOp    cumAcc\n",
       "10  cart  0.658209  0.213399  0.658209\n",
       "7   cart  0.659348  0.213696  0.659348\n",
       "8   cart  0.659348  0.213696  0.659348\n",
       "9   cart  0.659348  0.213696  0.659348\n",
       "3   cart  0.666542  0.244025  0.666542\n",
       "4   cart  0.666733  0.246561  0.666733\n",
       "5   cart  0.668249  0.247001  0.668249\n",
       "6   cart  0.668249  0.247001  0.668249\n",
       "2   cart  0.664836  0.248195  0.668249\n",
       "0   cart  0.681321  0.255683  0.681321\n",
       "1   cart  0.672986  0.274395  0.681321"
      ]
     },
     "execution_count": 78,
     "metadata": {},
     "output_type": "execute_result"
    }
   ],
   "source": [
    "compas_bench_cart = (pd.DataFrame({'algo': 'cart', 'Accuracy': acc, 'EqOfOp': fair})\n",
    "                      .sort_values('EqOfOp')\n",
    "                     .assign(cumAcc = lambda df: df.Accuracy.cummax()))\n",
    "compas_bench_cart"
   ]
  },
  {
   "cell_type": "code",
   "execution_count": 79,
   "metadata": {},
   "outputs": [
    {
     "name": "stdout",
     "output_type": "stream",
     "text": [
      "Best accuracy:  0.6809466821919383  with fairness 0.27129156909169494\n",
      "Best Fairness:  0.6809466821919383  with fairness 0.27129156909169494\n"
     ]
    }
   ],
   "source": [
    "from sklearn.linear_model import LogisticRegression\n",
    "import pandas as pd\n",
    "from sklearn.model_selection import cross_val_score\n",
    "\n",
    "compas = pd.read_csv('../data/compas.csv')\n",
    "X = compas.drop('Y', axis = 1).to_numpy()\n",
    "Y = compas['Y'].to_numpy()\n",
    "g = compas['race'].to_numpy()\n",
    "\n",
    "Cs = [0.01, 0.1, 1, 3, 10]\n",
    "acc = []\n",
    "acc_sd = []\n",
    "fair = []\n",
    "fair_sd = []\n",
    "\n",
    "for C in Cs:\n",
    "    cart = LogisticRegression(C = C)\n",
    "    scores = fairCrossValScore(cart, X, Y, g, cv=10)\n",
    "    acc.append(scores[0].mean())\n",
    "    acc_sd.append(scores[0].std())\n",
    "    fair.append(scores[1].mean())\n",
    "    fair_sd.append(scores[1].std())\n",
    "\n",
    "\n",
    "best_acc = np.argmax(acc)\n",
    "best_fair = np.argmax(acc)\n",
    "print('Best accuracy: ', acc[best_acc], ' with fairness', fair[best_acc])\n",
    "print('Best Fairness: ', acc[best_fair], ' with fairness', fair[best_fair])"
   ]
  },
  {
   "cell_type": "code",
   "execution_count": 80,
   "metadata": {},
   "outputs": [],
   "source": [
    "compas_bench_lr = (pd.DataFrame({'algo': 'logreg', 'Accuracy': acc, 'EqOfOp': fair})\n",
    "                      .sort_values('EqOfOp')\n",
    "                     .assign(cumAcc = lambda df: df.Accuracy.cummax()))\n",
    "compas_bench_lr.append(compas_bench_cart).to_csv('benchmark_compas.csv')"
   ]
  }
 ],
 "metadata": {
  "kernelspec": {
   "display_name": "Python 3",
   "language": "python",
   "name": "python3"
  },
  "language_info": {
   "codemirror_mode": {
    "name": "ipython",
    "version": 3
   },
   "file_extension": ".py",
   "mimetype": "text/x-python",
   "name": "python",
   "nbconvert_exporter": "python",
   "pygments_lexer": "ipython3",
   "version": "3.7.6"
  }
 },
 "nbformat": 4,
 "nbformat_minor": 4
}
