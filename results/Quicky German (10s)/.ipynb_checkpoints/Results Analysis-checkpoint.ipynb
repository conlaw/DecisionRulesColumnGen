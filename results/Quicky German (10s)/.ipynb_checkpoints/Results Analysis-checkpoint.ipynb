{
 "cells": [
  {
   "cell_type": "code",
   "execution_count": 3,
   "metadata": {},
   "outputs": [],
   "source": [
    "import pandas as pd\n",
    "import json\n",
    "from os import listdir"
   ]
  },
  {
   "cell_type": "code",
   "execution_count": 10,
   "metadata": {},
   "outputs": [
    {
     "name": "stdout",
     "output_type": "stream",
     "text": [
      "{'accuracy': [0.695, 0.76, 0.72, 0.65, 0.765], 'mip': [[], [], [], [], []], 'mip_final': [-1, -1, -1, -1, -1], 'ip': [213.0, 221.0, 220.0, 223.0, 217.0], 'complexity': [17.0, 17.0, 14.0, 2.0, 12.0], 'fairness': [], 'times': [0.09436523299996225, 0.10556576199996925, 0.08470749900004648, 0.0852953470000557, 0.07196116000000075], 'num_iter': [0, 0, 0, 0, 0], 'num_cols_gen': [213, 178, 142, 154, 142], 'mean_accuracy': 0.718, 'std_accuracy': 0.042731721238442995, 'mean_mip_final': -1.0, 'std_mip_final': 0.0, 'mean_ip': 218.8, 'std_ip': 3.487119154832538, 'mean_complexity': 12.4, 'std_complexity': 5.535341001239219, 'mean_fairness': nan, 'std_fairness': nan, 'mean_times': 0.08837900020000689, 'std_times': 0.011169190474297808, 'mean_num_iter': 0.0, 'std_num_iter': 0.0, 'mean_num_cols_gen': 165.8, 'std_num_cols_gen': 27.014070407844873}\n"
     ]
    }
   ],
   "source": [
    "files = [file for file in listdir() if 'GermanFairCurve_' in file]\n",
    "\n",
    "with open(files[0]) as json_file:\n",
    "    epsil\n",
    "    data = json.load(json_file)\n",
    "    print(data)"
   ]
  },
  {
   "cell_type": "code",
   "execution_count": null,
   "metadata": {},
   "outputs": [],
   "source": []
  }
 ],
 "metadata": {
  "kernelspec": {
   "display_name": "Python 3",
   "language": "python",
   "name": "python3"
  },
  "language_info": {
   "codemirror_mode": {
    "name": "ipython",
    "version": 3
   },
   "file_extension": ".py",
   "mimetype": "text/x-python",
   "name": "python",
   "nbconvert_exporter": "python",
   "pygments_lexer": "ipython3",
   "version": "3.7.6"
  }
 },
 "nbformat": 4,
 "nbformat_minor": 4
}
