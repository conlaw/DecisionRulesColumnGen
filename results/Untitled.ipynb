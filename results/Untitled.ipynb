{
 "cells": [
  {
   "cell_type": "code",
   "execution_count": 1,
   "metadata": {},
   "outputs": [],
   "source": [
    "import pandas as pd\n",
    "import numpy as np\n",
    "import json\n",
    "from os import listdir\n",
    "import seaborn as sns\n",
    "sns.set()\n",
    "import matplotlib.pyplot as plt"
   ]
  },
  {
   "cell_type": "code",
   "execution_count": 2,
   "metadata": {},
   "outputs": [],
   "source": [
    "files = [file for file in listdir() if 'COMPASRaceEqOp_' in file]\n",
    "results = []\n",
    "for file in files:\n",
    "    with open(file) as json_file:\n",
    "        data = json.load(json_file)\n",
    "    results.append({'accuracy' : data['mean_accuracy'],\n",
    "                    'accuracy_std': data['std_accuracy'],\n",
    "                    'accuracy_train': data['mean_accuracy_train'],\n",
    "                    'complexity': file.split('_')[3].split('.txt')[0],\n",
    "                'complexity_final': data['mean_complexity'],\n",
    "                'epsilon' :  file.split('_')[1],\n",
    "                'eqOpTrue_train': data['mean_eqOp_True_Train'],\n",
    "                'eqOpFalse_train': data['mean_eqOp_False_Train'],\n",
    "                'accTrue_train': data['mean_accuracy_True_Train'],\n",
    "                'accFalse_train': data['mean_accuracy_False_Train'],\n",
    "                'eqOpTrue': data['mean_eqOp_True'],\n",
    "                'eqOpFalse': data['mean_eqOp_False'],\n",
    "                'epsOpTrue_std': data['std_eqOp_True'],\n",
    "                'epsOpFalse_std': data['std_eqOp_False'],\n",
    "                'eps_test_std': np.abs(np.array(data['eqOp_True']) - np.array(data['eqOp_False'])).std(),\n",
    "                'accTrue': data['mean_accuracy_True'],\n",
    "                'accFalse': data['mean_accuracy_False'],\n",
    "                'ip' : data['mean_ip']})\n",
    "\n",
    "results = (pd.DataFrame.from_records(results)\n",
    "           .assign(eps_test=lambda df: np.abs(df.eqOpTrue - df.eqOpFalse),\n",
    "                  acc_diff = lambda df: np.abs(df.accTrue - df.accFalse),\n",
    "                  eps_train = lambda df: np.abs(df.eqOpTrue_train - df.eqOpFalse_train),\n",
    "                  acc_diff_train = lambda df: np.abs(df.accTrue_train - df.accFalse_train))\n",
    "          .astype({'epsilon': 'float64', 'complexity':'float64'}))\n",
    "results.head()\n",
    "results.to_csv('../Graphing/compasEqOp2.csv')"
   ]
  },
  {
   "cell_type": "code",
   "execution_count": 3,
   "metadata": {},
   "outputs": [],
   "source": [
    "files = [file for file in listdir() if 'COMPASRaceHEO_' in file]\n",
    "results = []\n",
    "for file in files:\n",
    "    with open(file) as json_file:\n",
    "        data = json.load(json_file)\n",
    "    results.append({'accuracy' : data['mean_accuracy'],\n",
    "                    'accuracy_std': data['std_accuracy'],\n",
    "                    'accuracy_train': data['mean_accuracy_train'],\n",
    "                    'complexity': file.split('_')[3].split('.txt')[0],\n",
    "                'complexity_final': data['mean_complexity'],\n",
    "                'epsilon' :  file.split('_')[1],\n",
    "                'eqOpTrue_train': data['mean_eqOp_True_Train'],\n",
    "                'eqOpFalse_train': data['mean_eqOp_False_Train'],\n",
    "                'accTrue_train': data['mean_accuracy_True_Train'],\n",
    "                'accFalse_train': data['mean_accuracy_False_Train'],\n",
    "                'eqOpTrue': data['mean_eqOp_True'],\n",
    "                'eqOpFalse': data['mean_eqOp_False'],\n",
    "                'epsOpTrue_std': data['std_eqOp_True'],\n",
    "                'epsOpFalse_std': data['std_eqOp_False'],\n",
    "                'eps_test_std': np.abs(np.array(data['eqOp_True']) - np.array(data['eqOp_False'])).std(),\n",
    "                'accTrue': data['mean_accuracy_True'],\n",
    "                'accFalse': data['mean_accuracy_False'],\n",
    "                'ip' : data['mean_ip']})\n",
    "\n",
    "results = (pd.DataFrame.from_records(results)\n",
    "           .assign(eps_test=lambda df: np.abs(df.eqOpTrue - df.eqOpFalse),\n",
    "                  acc_diff = lambda df: np.abs(df.accTrue - df.accFalse),\n",
    "                  eps_train = lambda df: np.abs(df.eqOpTrue_train - df.eqOpFalse_train),\n",
    "                  acc_diff_train = lambda df: np.abs(df.accTrue_train - df.accFalse_train))\n",
    "          .astype({'epsilon': 'float64', 'complexity':'float64'}))\n",
    "results.head()\n",
    "results.to_csv('../Graphing/compasHEO2.csv')"
   ]
  }
 ],
 "metadata": {
  "kernelspec": {
   "display_name": "Python [conda env:decisionRule] *",
   "language": "python",
   "name": "conda-env-decisionRule-py"
  },
  "language_info": {
   "codemirror_mode": {
    "name": "ipython",
    "version": 3
   },
   "file_extension": ".py",
   "mimetype": "text/x-python",
   "name": "python",
   "nbconvert_exporter": "python",
   "pygments_lexer": "ipython3",
   "version": "3.7.6"
  }
 },
 "nbformat": 4,
 "nbformat_minor": 4
}
